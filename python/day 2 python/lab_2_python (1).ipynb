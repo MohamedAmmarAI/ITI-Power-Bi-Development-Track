{
  "nbformat": 4,
  "nbformat_minor": 0,
  "metadata": {
    "colab": {
      "provenance": []
    },
    "kernelspec": {
      "name": "python3",
      "display_name": "Python 3"
    },
    "language_info": {
      "name": "python"
    }
  },
  "cells": [
    {
      "cell_type": "markdown",
      "source": [
        "# question 1"
      ],
      "metadata": {
        "id": "vJAFw3bDEsIM"
      }
    },
    {
      "cell_type": "code",
      "execution_count": null,
      "metadata": {
        "colab": {
          "base_uri": "https://localhost:8080/"
        },
        "id": "CzKzfCdZEm2w",
        "outputId": "0eee7365-7798-40b1-f807-b3d5ee090913"
      },
      "outputs": [
        {
          "output_type": "stream",
          "name": "stdout",
          "text": [
            "15\n",
            "10\n"
          ]
        }
      ],
      "source": [
        "# 1. Function with Global and Local Variables\n",
        "# Write a Python program that defines a global variable total. Create a function\n",
        "# add_to_total(n) that adds n to total using the global keyword. Also, define a local variable\n",
        "# local_total inside the function and print both variables.\n",
        "\n",
        "total=5\n",
        "\n",
        "def add_to_total(n):\n",
        "  global total\n",
        "  total=total+n\n",
        "  local_total=n\n",
        "\n",
        "  print(total)\n",
        "  print(local_total)\n",
        "\n",
        "add_to_total(10)\n",
        "\n",
        "# print(total)\n",
        "\n"
      ]
    },
    {
      "cell_type": "markdown",
      "source": [
        "# question 2"
      ],
      "metadata": {
        "id": "2VfZtpl8IPMw"
      }
    },
    {
      "cell_type": "code",
      "source": [
        "# 2. Function with Global and Local Variables - Bank Balance\n",
        "# Create a global variable balance = 1000. Write a function withdraw(amount) that reduces the\n",
        "# balance using the global keyword. Also, declare a local variable withdrawn_amount to store\n",
        "# the withdrawn value.\n",
        "\n",
        "balance= 1000 # global\n",
        "\n",
        "def withdraw(amount):\n",
        "  global balance\n",
        "  balance=balance-amount\n",
        "  local_amount=amount\n",
        "\n",
        "  print(\"global balance is :- \", balance)\n",
        "  print(\"local-amount is :- \", local_amount)\n",
        "\n",
        "withdraw(2000)\n"
      ],
      "metadata": {
        "colab": {
          "base_uri": "https://localhost:8080/"
        },
        "id": "6pro82ayHkEL",
        "outputId": "f56ce4c9-3031-498d-f16f-c5298d757f01"
      },
      "execution_count": null,
      "outputs": [
        {
          "output_type": "stream",
          "name": "stdout",
          "text": [
            "global balance is :-  -1000\n",
            "local-amount is :-  2000\n"
          ]
        }
      ]
    },
    {
      "cell_type": "markdown",
      "source": [
        "# question 3"
      ],
      "metadata": {
        "id": "HzTo7w9GK1rp"
      }
    },
    {
      "cell_type": "code",
      "source": [
        "# 3. Function with Global and Local Variables - Scope\n",
        "# Create a function modify_global_var() that tries to change a global variable count inside the\n",
        "# function without using the global keyword. Print the value of count inside and outside the\n",
        "# function to observe the behavior.\n",
        "\n",
        "count=20\n",
        "\n",
        "def modify_global_var():\n",
        "  count=10\n",
        "  print(\"count inside function is :- \",count) # local\n",
        "\n",
        "modify_global_var()\n",
        "print(\"count outside function is:- \",count) # global"
      ],
      "metadata": {
        "colab": {
          "base_uri": "https://localhost:8080/"
        },
        "id": "oQd5ZCPDKf2o",
        "outputId": "c5879a0f-cbea-4c01-ebab-753a32f7f15e"
      },
      "execution_count": null,
      "outputs": [
        {
          "output_type": "stream",
          "name": "stdout",
          "text": [
            "count inside function is :-  10\n",
            "count outside function is:-  20\n"
          ]
        }
      ]
    },
    {
      "cell_type": "markdown",
      "source": [
        "# question 4"
      ],
      "metadata": {
        "id": "3TdEkDVOOnrP"
      }
    },
    {
      "cell_type": "code",
      "source": [
        "# 4. Using enumerate in a List\n",
        "# Write a function print_items_with_index(items) that takes a list as input and prints each\n",
        "# item with its index using enumerate().\n",
        "# Ex:\n",
        "# Index 0: apple\n",
        "# Index 1: banana\n",
        "# Index 2: cherry\n",
        "\n",
        "def print_items_with_index(lst):\n",
        "  for index , value in enumerate(lst):\n",
        "    print(f\"index {index} :- {value}\")\n",
        "\n",
        "fruits= [\"apple\",\"banana\",\"cherry\",\"orange\"]\n",
        "print_items_with_index(fruits)"
      ],
      "metadata": {
        "colab": {
          "base_uri": "https://localhost:8080/"
        },
        "id": "fr0NTsaHOXe8",
        "outputId": "e237d743-3d61-4df0-aa62-279c88910a55"
      },
      "execution_count": null,
      "outputs": [
        {
          "output_type": "stream",
          "name": "stdout",
          "text": [
            "index 0 :- apple\n",
            "index 1 :- banana\n",
            "index 2 :- cherry\n",
            "index 3 :- orange\n"
          ]
        }
      ]
    },
    {
      "cell_type": "markdown",
      "source": [
        "# question 5"
      ],
      "metadata": {
        "id": "zlzyuxknQmVa"
      }
    },
    {
      "cell_type": "code",
      "source": [
        "# 5. Using enumerate with a Start Index\n",
        "# Modify the previous function so that enumerate() starts counting from 1 instead of 0.\n",
        "\n",
        "def print_items_with_index(lst):\n",
        "  for index , value in enumerate(lst,start=1):\n",
        "    print(f\"index {index} :- {value}\")\n",
        "\n",
        "fruits= [\"apple\",\"banana\",\"cherry\",\"orange\"]\n",
        "print_items_with_index(fruits)"
      ],
      "metadata": {
        "colab": {
          "base_uri": "https://localhost:8080/"
        },
        "id": "lsUmLPQOQg4Q",
        "outputId": "443d06de-0d8c-4c4d-d641-95c3105848b3"
      },
      "execution_count": null,
      "outputs": [
        {
          "output_type": "stream",
          "name": "stdout",
          "text": [
            "index 1 :- apple\n",
            "index 2 :- banana\n",
            "index 3 :- cherry\n",
            "index 4 :- orange\n"
          ]
        }
      ]
    },
    {
      "cell_type": "markdown",
      "source": [
        "# question 6"
      ],
      "metadata": {
        "id": "7yggu3J4Uico"
      }
    },
    {
      "cell_type": "code",
      "source": [
        "# 6. Lambda Function for Squaring Numbers\n",
        "# Write a lambda function square that takes a number as input and returns its square. Use this\n",
        "# lambda function with the map() function to square all elements in a given list.\n",
        "\n",
        "square_number = lambda num : num**2\n",
        "\n",
        "def map_square(lst_numbers):\n",
        "  return list(map(square_number , lst_numbers))\n",
        "\n",
        "lst=[1,2,3,4,5]\n",
        "map_square(lst)\n"
      ],
      "metadata": {
        "colab": {
          "base_uri": "https://localhost:8080/"
        },
        "id": "_aKg1gY7RXhG",
        "outputId": "1ce546d8-496b-42a3-c72f-d29d251482a6"
      },
      "execution_count": null,
      "outputs": [
        {
          "output_type": "execute_result",
          "data": {
            "text/plain": [
              "[1, 4, 9, 16, 25]"
            ]
          },
          "metadata": {},
          "execution_count": 17
        }
      ]
    },
    {
      "cell_type": "markdown",
      "source": [
        "# question 7"
      ],
      "metadata": {
        "id": "faVgOtpwX3io"
      }
    },
    {
      "cell_type": "code",
      "source": [
        "# 7. Lambda Function for Filtering Even Numbers\n",
        "# Create a lambda function to filter even numbers from a list using the filter() function.\n",
        "# Example:\n",
        "# 7. Lambda Function for Filtering Even Numbers\n",
        "# Create a lambda function to filter even numbers from a list using the filter() function.\n",
        "# Example:\n",
        "# [1, 2, 3, 4, 5, 6] -> [2, 4, 6]\n",
        "\n",
        "filter_even=lambda num :num % 2 == 0\n",
        "num_list=[1, 2, 3, 4, 5, 6]\n",
        "result=list(filter(filter_even,num_list))\n",
        "print(result)"
      ],
      "metadata": {
        "colab": {
          "base_uri": "https://localhost:8080/"
        },
        "id": "MRgJCH8nXbHx",
        "outputId": "aef35d26-f75d-4f64-bc33-0db5fabb50b2"
      },
      "execution_count": null,
      "outputs": [
        {
          "output_type": "stream",
          "name": "stdout",
          "text": [
            "[2, 4, 6]\n"
          ]
        }
      ]
    },
    {
      "cell_type": "markdown",
      "source": [
        "# question 8"
      ],
      "metadata": {
        "id": "inmd8pzpc1yC"
      }
    },
    {
      "cell_type": "code",
      "source": [
        "# 8. Lambda Function for Reversing a String\n",
        "# Create a lambda function reverse_string to reverse a given string.\n",
        "\n",
        "\n",
        "reverse_string=lambda string : string[::-1]\n",
        "reverse_string(\"mohamed ahmed ammar\")"
      ],
      "metadata": {
        "colab": {
          "base_uri": "https://localhost:8080/",
          "height": 35
        },
        "id": "9fTeVbyhcbqm",
        "outputId": "873efa5c-9d18-41ec-a5cb-46fc16f3b074"
      },
      "execution_count": null,
      "outputs": [
        {
          "output_type": "execute_result",
          "data": {
            "text/plain": [
              "'ramma demha demahom'"
            ],
            "application/vnd.google.colaboratory.intrinsic+json": {
              "type": "string"
            }
          },
          "metadata": {},
          "execution_count": 21
        }
      ]
    },
    {
      "cell_type": "markdown",
      "source": [
        "# question 9"
      ],
      "metadata": {
        "id": "zxg2rUdGexbm"
      }
    },
    {
      "cell_type": "code",
      "source": [
        "# 9. Create a Simple Class in Python\n",
        "# Create a class Student with attributes name and age. Then, create an object of the class and print\n",
        "# the student's details.\n",
        "\n",
        "class student():\n",
        "  def __init__(self,name,age):\n",
        "    self.name=name\n",
        "    self.age=age\n",
        "\n",
        "ahmed=student(\"mohamed\",27)\n",
        "print(ahmed.name)\n",
        "print(ahmed.age)"
      ],
      "metadata": {
        "colab": {
          "base_uri": "https://localhost:8080/"
        },
        "id": "0_79vXqgej_4",
        "outputId": "c7debabd-53c7-4854-cd1d-1a37a3c95eae"
      },
      "execution_count": null,
      "outputs": [
        {
          "output_type": "stream",
          "name": "stdout",
          "text": [
            "mohamed\n",
            "27\n"
          ]
        }
      ]
    },
    {
      "cell_type": "markdown",
      "source": [
        "# question 10"
      ],
      "metadata": {
        "id": "o-7tneyjgAd-"
      }
    },
    {
      "cell_type": "code",
      "source": [
        "# 10. Class with Methods\n",
        "# Modify the Student class to include a method get_details() that returns the student’s name\n",
        "# and age in a formatted string.\n",
        "\n",
        "class student():\n",
        "  def __init__(self,name,age):\n",
        "    self.name=name\n",
        "    self.age=age\n",
        "\n",
        "  def get_details(self):\n",
        "    print(\"Student\",self.name,\"is\",self.age,\"years old.\")\n",
        "\n",
        "mohamed=student(\"mohamed\",27)\n",
        "mohamed.get_details()"
      ],
      "metadata": {
        "colab": {
          "base_uri": "https://localhost:8080/"
        },
        "id": "jLw40i1ie6DD",
        "outputId": "d7fe3561-6df1-40c4-f3d0-2b59d68b90c5"
      },
      "execution_count": null,
      "outputs": [
        {
          "output_type": "stream",
          "name": "stdout",
          "text": [
            "Student mohamed is 27 years old.\n"
          ]
        }
      ]
    },
    {
      "cell_type": "code",
      "source": [],
      "metadata": {
        "id": "E1s_VgJ3hgJ3"
      },
      "execution_count": null,
      "outputs": []
    }
  ]
}