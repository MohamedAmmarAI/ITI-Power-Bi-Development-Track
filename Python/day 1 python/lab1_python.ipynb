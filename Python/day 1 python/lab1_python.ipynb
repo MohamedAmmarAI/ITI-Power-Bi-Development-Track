{
  "nbformat": 4,
  "nbformat_minor": 0,
  "metadata": {
    "colab": {
      "provenance": []
    },
    "kernelspec": {
      "name": "python3",
      "display_name": "Python 3"
    },
    "language_info": {
      "name": "python"
    }
  },
  "cells": [
    {
      "cell_type": "markdown",
      "source": [
        "#question 1"
      ],
      "metadata": {
        "id": "uGei-Pthz7ET"
      }
    },
    {
      "cell_type": "code",
      "source": [
        "# write 3 variable and check for it's data types using type() function\n",
        "\n",
        "num=10 #integer\n",
        "print(type(num))\n",
        "\n",
        "name=\"mohamed\" #string\n",
        "print(type(name))\n",
        "\n",
        "complex=5+3j # complex\n",
        "print(type(complex))\n",
        "\n"
      ],
      "metadata": {
        "colab": {
          "base_uri": "https://localhost:8080/"
        },
        "id": "ysw2PIdr0Atv",
        "outputId": "ee547c43-1aba-4595-a403-ddc9dece34d9"
      },
      "execution_count": null,
      "outputs": [
        {
          "output_type": "stream",
          "name": "stdout",
          "text": [
            "<class 'int'>\n",
            "<class 'str'>\n",
            "<class 'complex'>\n"
          ]
        }
      ]
    },
    {
      "cell_type": "markdown",
      "source": [
        "# question 2\n"
      ],
      "metadata": {
        "id": "3qCKN8QR1n6i"
      }
    },
    {
      "cell_type": "code",
      "source": [
        "# 2- write 3 variable and take it in one line using split() function and print it\n",
        "\n",
        "var1 , var2 , var3 = input(\"enter the values , please: \").split()\n",
        "print(var1)\n",
        "print(var2)\n",
        "print(var3)"
      ],
      "metadata": {
        "colab": {
          "base_uri": "https://localhost:8080/"
        },
        "id": "nwswKhNa0omM",
        "outputId": "c57216b0-f102-4c07-bc0d-5760b6c9ffb6"
      },
      "execution_count": null,
      "outputs": [
        {
          "output_type": "stream",
          "name": "stdout",
          "text": [
            "enter the values , please: 23 1 \"mohamed\"\n",
            "23\n",
            "1\n",
            "\"mohamed\"\n"
          ]
        }
      ]
    },
    {
      "cell_type": "markdown",
      "source": [
        "#question 3\n"
      ],
      "metadata": {
        "id": "WqBMxfWn2YOn"
      }
    },
    {
      "cell_type": "code",
      "source": [
        "# write program take number from user then convert it to string \" casting \" then print lenth of this\n",
        "#string using len() function\n",
        "\n",
        "number=int(input(\"enter the number please: \"))\n",
        "number_str=str(number)\n",
        "print(len(number_str))\n"
      ],
      "metadata": {
        "colab": {
          "base_uri": "https://localhost:8080/"
        },
        "id": "JAP6mIVN0oYU",
        "outputId": "7ba575e1-c812-4f44-c4ce-61ffa4ca8163"
      },
      "execution_count": null,
      "outputs": [
        {
          "output_type": "stream",
          "name": "stdout",
          "text": [
            "enter the number please: 1997\n",
            "4\n"
          ]
        }
      ]
    },
    {
      "cell_type": "markdown",
      "source": [
        "# question 4"
      ],
      "metadata": {
        "id": "1J2ZBbM23eMW"
      }
    },
    {
      "cell_type": "code",
      "source": [
        "# 4- you have number and you want to remove last k number from this number implement python\n",
        "# program do that and print result\n",
        "def remove_last_k(num,k):\n",
        "  num_str=str(num)\n",
        "  num_str=num_str[:-k]\n",
        "  return int(num_str)\n",
        "\n",
        "num_user,k=map(int,input(\"enter the number: \").split())\n",
        "remove_last_k(num_user,k)\n",
        "\n",
        "\n",
        "\n"
      ],
      "metadata": {
        "colab": {
          "base_uri": "https://localhost:8080/"
        },
        "id": "3y_byz6x0oU0",
        "outputId": "13f4283e-e9d3-4611-fb6a-8771262103f5"
      },
      "execution_count": null,
      "outputs": [
        {
          "name": "stdout",
          "output_type": "stream",
          "text": [
            "enter the number: 1234 2\n"
          ]
        },
        {
          "output_type": "execute_result",
          "data": {
            "text/plain": [
              "12"
            ]
          },
          "metadata": {},
          "execution_count": 20
        }
      ]
    },
    {
      "cell_type": "markdown",
      "source": [
        "# question 5"
      ],
      "metadata": {
        "id": "qHtW5uHW5V8I"
      }
    },
    {
      "cell_type": "code",
      "source": [
        "# take integer multiple number in one line using map and split then print maximum and minimum\n",
        "# number from it using min and max function\n",
        "\n",
        "lst_numbers=list(map(int,input(\"enter the numbers , please: \").split()))\n",
        "print(max(lst_numbers))  # to print max\n",
        "print(min(lst_numbers))  # to print min"
      ],
      "metadata": {
        "colab": {
          "base_uri": "https://localhost:8080/"
        },
        "id": "g4IXCmVp0oS3",
        "outputId": "35facb9e-c53e-4004-9637-e7ab045a03e7"
      },
      "execution_count": null,
      "outputs": [
        {
          "output_type": "stream",
          "name": "stdout",
          "text": [
            "enter the numbers , please: 12 3 45 65 1 1000\n",
            "1000\n",
            "1\n"
          ]
        }
      ]
    },
    {
      "cell_type": "markdown",
      "source": [
        "# question 6"
      ],
      "metadata": {
        "id": "Tkxg2aLW6nnI"
      }
    },
    {
      "cell_type": "code",
      "source": [
        "# Write a Python program that finds the minimum of two values a and b.\n",
        "\n",
        "def minimum_between_two_numbers(a,b):\n",
        "  if a<b:\n",
        "    return a\n",
        "  elif (a==b):\n",
        "    return b\n",
        "  else:\n",
        "    return b\n",
        "minimum_between_two_numbers(10,0)\n"
      ],
      "metadata": {
        "colab": {
          "base_uri": "https://localhost:8080/"
        },
        "id": "h_j56PhF6t34",
        "outputId": "76359aa9-e307-4337-bb73-06c0c3fcc1f3"
      },
      "execution_count": null,
      "outputs": [
        {
          "output_type": "execute_result",
          "data": {
            "text/plain": [
              "0"
            ]
          },
          "metadata": {},
          "execution_count": 15
        }
      ]
    },
    {
      "cell_type": "markdown",
      "source": [
        "# question 7"
      ],
      "metadata": {
        "id": "b_5bcOiF7wXA"
      }
    },
    {
      "cell_type": "code",
      "source": [
        "# Write a program that reads an integer salary then:\n",
        "# If salary < 1000,\n",
        "# - Print you are poor\n",
        "# elif salary greater than or equal to 1000 and less than 20000\n",
        "# - Print good salary\n",
        "# elif salary greater than or equal to 20000\n",
        "# - Print you are rich\n",
        "\n",
        "salary=int(input(\"enter the salary , please: \"))\n",
        "if salary < 1000:\n",
        "  print(\"you are poor\")\n",
        "elif (salary>= 1000 and salary<2000):\n",
        "  print(\"good salary\")\n",
        "elif(salary > 2000 or salary==2000):\n",
        "  print(\"you are rich\")\n"
      ],
      "metadata": {
        "colab": {
          "base_uri": "https://localhost:8080/"
        },
        "id": "9CzhED156t0i",
        "outputId": "ce8e9b29-99ce-4dfb-bf33-047c34d6e1d6"
      },
      "execution_count": null,
      "outputs": [
        {
          "output_type": "stream",
          "name": "stdout",
          "text": [
            "enter the salary , please: 2000\n",
            "you are rich\n"
          ]
        }
      ]
    },
    {
      "cell_type": "markdown",
      "source": [
        "# question 8"
      ],
      "metadata": {
        "id": "1tOBHNSE9nAH"
      }
    },
    {
      "cell_type": "code",
      "source": [
        "# Write a Python program that receives the age of the user and display whether he/she can drive a car.\n",
        "# If the user is above 18 years old, he/she can drive.\n",
        "\n",
        "age = int(input(\"enter the age , please: \"))\n",
        "if age > 18:\n",
        "  print(\"you can drive\")\n",
        "else:\n",
        "  print(\"you cant drive\")"
      ],
      "metadata": {
        "colab": {
          "base_uri": "https://localhost:8080/"
        },
        "id": "emuROyTW0oQK",
        "outputId": "2b00ad9a-171e-4020-c127-e7da45269937"
      },
      "execution_count": null,
      "outputs": [
        {
          "output_type": "stream",
          "name": "stdout",
          "text": [
            "enter the age , please: 26\n",
            "you can drive\n"
          ]
        }
      ]
    },
    {
      "cell_type": "code",
      "source": [],
      "metadata": {
        "id": "rI6L_FbV-mYc"
      },
      "execution_count": null,
      "outputs": []
    },
    {
      "cell_type": "code",
      "source": [],
      "metadata": {
        "id": "-wI9mXmW-mVC"
      },
      "execution_count": null,
      "outputs": []
    }
  ]
}