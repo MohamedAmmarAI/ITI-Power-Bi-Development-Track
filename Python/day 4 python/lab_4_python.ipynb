{
  "nbformat": 4,
  "nbformat_minor": 0,
  "metadata": {
    "colab": {
      "provenance": []
    },
    "kernelspec": {
      "name": "python3",
      "display_name": "Python 3"
    },
    "language_info": {
      "name": "python"
    }
  },
  "cells": [
    {
      "cell_type": "markdown",
      "source": [
        "# question 1"
      ],
      "metadata": {
        "id": "bfgbnTXWJ9dj"
      }
    },
    {
      "cell_type": "code",
      "execution_count": null,
      "metadata": {
        "colab": {
          "base_uri": "https://localhost:8080/"
        },
        "id": "oHUSGs4_JgHw",
        "outputId": "42ae105f-169b-4552-f735-4fc23be6ed63"
      },
      "outputs": [
        {
          "output_type": "stream",
          "name": "stdout",
          "text": [
            "a    10\n",
            "b    15\n",
            "c    20\n",
            "d    12\n",
            "e    30\n",
            "dtype: int64\n",
            "<class 'pandas.core.series.Series'>\n"
          ]
        }
      ],
      "source": [
        "\"\"\"\n",
        "1. Write a Pandas program to create and display a one-dimensional array-like object containing  an array of data using Pandas module.\n",
        "\n",
        "\"\"\"\n",
        "import pandas as pd\n",
        "data=[10,15,20,12,30]\n",
        "series=pd.Series(data,index=['a','b','c','d','e'])\n",
        "\n",
        "print(series)\n",
        "print(type(series))\n"
      ]
    },
    {
      "cell_type": "markdown",
      "source": [
        "# question 2"
      ],
      "metadata": {
        "id": "2zubYv7KLqD4"
      }
    },
    {
      "cell_type": "code",
      "source": [
        "\"\"\"\n",
        "\n",
        "2. Write a Pandas program to convert a Panda module Series to Python list and it's\n",
        "type.\n",
        "\n",
        "\"\"\"\n",
        "print(series)\n",
        "print(type(series))\n",
        "print(\"*\" * 100)\n",
        "\n",
        "lst=list(series)\n",
        "print(lst)\n",
        "print(type(lst))\n",
        "print(\"*\" * 100)\n",
        "\n",
        "\n"
      ],
      "metadata": {
        "colab": {
          "base_uri": "https://localhost:8080/"
        },
        "id": "F-Vc7o82KHM_",
        "outputId": "b6a1fd75-13f9-482d-aff2-dec2f6aaf33e"
      },
      "execution_count": null,
      "outputs": [
        {
          "output_type": "stream",
          "name": "stdout",
          "text": [
            "a    10\n",
            "b    15\n",
            "c    20\n",
            "d    12\n",
            "e    30\n",
            "dtype: int64\n",
            "<class 'pandas.core.series.Series'>\n",
            "****************************************************************************************************\n",
            "[10, 15, 20, 12, 30]\n",
            "<class 'list'>\n",
            "****************************************************************************************************\n"
          ]
        }
      ]
    },
    {
      "cell_type": "markdown",
      "source": [
        "# question 3"
      ],
      "metadata": {
        "id": "PrmRkhvvMyJc"
      }
    },
    {
      "cell_type": "code",
      "source": [
        "\"\"\"\n",
        "\n",
        "3. Write a Pandas program to add, subtract, multiple and divide two\n",
        "Pandas Series.  Sample Series: [2, 4, 6, 8, 10], [1, 3, 5, 7, 9]\n",
        "\n",
        "\"\"\"\n",
        "a=[2, 4, 6, 8, 10]\n",
        "b=[1, 3, 5, 7, 9]\n",
        "\n",
        "\"\"\"\n",
        "\n",
        "3. Write a Pandas program to add, subtract, multiple and divide two\n",
        "Pandas Series.  Sample Series: [2, 4, 6, 8, 10], [1, 3, 5, 7, 9]\n",
        "\n",
        "\"\"\"\n",
        "import pandas as pd\n",
        "a=[2, 4, 6, 8, 10]\n",
        "b=[1, 3, 5, 7, 9]\n",
        "\n",
        "ser1=pd.Series(a)\n",
        "ser2=pd.Series(b)\n",
        "print(\"series 1 is :- \\n\", ser1)\n",
        "print(\"series 2 is :- \\n\", ser2)\n",
        "print(\"*\" * 100)\n",
        "\n",
        "add_series=ser1+ser2\n",
        "sub_series=ser1-ser2\n",
        "mul_series=ser1*ser2\n",
        "div_series=ser1/ser2\n",
        "\n",
        "print(\"addition of series is :- \\n\", add_series)\n",
        "print(add_series)\n",
        "print(\"*\" * 100)\n",
        "print(\"subtraction of series is :- \\n\", sub_series)\n",
        "print(sub_series)\n",
        "print(\"*\" * 100)\n",
        "print(\"multiplication of series is :- \\n\", mul_series)\n",
        "print(mul_series)\n",
        "print(\"*\" * 100)\n",
        "print(\"division of series is :- \\n\", div_series)\n",
        "print(div_series)\n"
      ],
      "metadata": {
        "colab": {
          "base_uri": "https://localhost:8080/"
        },
        "id": "UIuhdjPEL4JX",
        "outputId": "3a48dbbb-5710-40d1-c0c3-bdb01e384ed7"
      },
      "execution_count": null,
      "outputs": [
        {
          "output_type": "stream",
          "name": "stdout",
          "text": [
            "series 1 is :- \n",
            " 0     2\n",
            "1     4\n",
            "2     6\n",
            "3     8\n",
            "4    10\n",
            "dtype: int64\n",
            "series 2 is :- \n",
            " 0    1\n",
            "1    3\n",
            "2    5\n",
            "3    7\n",
            "4    9\n",
            "dtype: int64\n",
            "****************************************************************************************************\n",
            "addition of series is :- \n",
            " 0     3\n",
            "1     7\n",
            "2    11\n",
            "3    15\n",
            "4    19\n",
            "dtype: int64\n",
            "0     3\n",
            "1     7\n",
            "2    11\n",
            "3    15\n",
            "4    19\n",
            "dtype: int64\n",
            "****************************************************************************************************\n",
            "subtraction of series is :- \n",
            " 0    1\n",
            "1    1\n",
            "2    1\n",
            "3    1\n",
            "4    1\n",
            "dtype: int64\n",
            "0    1\n",
            "1    1\n",
            "2    1\n",
            "3    1\n",
            "4    1\n",
            "dtype: int64\n",
            "****************************************************************************************************\n",
            "multiplication of series is :- \n",
            " 0     2\n",
            "1    12\n",
            "2    30\n",
            "3    56\n",
            "4    90\n",
            "dtype: int64\n",
            "0     2\n",
            "1    12\n",
            "2    30\n",
            "3    56\n",
            "4    90\n",
            "dtype: int64\n",
            "****************************************************************************************************\n",
            "division of series is :- \n",
            " 0    2.000000\n",
            "1    1.333333\n",
            "2    1.200000\n",
            "3    1.142857\n",
            "4    1.111111\n",
            "dtype: float64\n",
            "0    2.000000\n",
            "1    1.333333\n",
            "2    1.200000\n",
            "3    1.142857\n",
            "4    1.111111\n",
            "dtype: float64\n"
          ]
        }
      ]
    },
    {
      "cell_type": "markdown",
      "source": [
        "# question 4"
      ],
      "metadata": {
        "id": "eKPqYjcJPdtS"
      }
    },
    {
      "cell_type": "code",
      "source": [
        "\"\"\"\n",
        "\n",
        "4. Write a Pandas program to compare the elements of the two\n",
        "Pandas Series.  Sample Series: [2, 4, 6, 8, 10], [1, 3, 5, 7, 10]\n",
        "\n",
        "\"\"\"\n",
        "\n",
        "import pandas as pd\n",
        "a=[2, 4, 6, 8, 10]\n",
        "b=[1, 3, 5, 7, 10]\n",
        "\n",
        "ser1=pd.Series(a)\n",
        "ser2=pd.Series(b)\n",
        "\n",
        "print(\"series 1 is :- \\n\", ser1)\n",
        "print(\"series 2 is :- \\n\", ser2)\n",
        "print(\"*\" * 100)\n",
        "\n",
        "print(\"ser1=ser2 \\n\",ser1==ser2)\n",
        "print(\"*\" * 100)\n",
        "print(\"ser1>ser2 \\n\",ser1>ser2)\n",
        "print(\"*\" * 100)\n",
        "print(\"ser1<ser2 \\n\",ser1<ser2)\n",
        "\n",
        "\n",
        "\n",
        "\n"
      ],
      "metadata": {
        "colab": {
          "base_uri": "https://localhost:8080/"
        },
        "id": "GUxv6nRVNkME",
        "outputId": "fde49405-4d99-4edb-fb41-50d283e385b9"
      },
      "execution_count": null,
      "outputs": [
        {
          "output_type": "stream",
          "name": "stdout",
          "text": [
            "series 1 is :- \n",
            " 0     2\n",
            "1     4\n",
            "2     6\n",
            "3     8\n",
            "4    10\n",
            "dtype: int64\n",
            "series 2 is :- \n",
            " 0     1\n",
            "1     3\n",
            "2     5\n",
            "3     7\n",
            "4    10\n",
            "dtype: int64\n",
            "****************************************************************************************************\n",
            "ser1=ser2 \n",
            " 0    False\n",
            "1    False\n",
            "2    False\n",
            "3    False\n",
            "4     True\n",
            "dtype: bool\n",
            "****************************************************************************************************\n",
            "ser1>ser2 \n",
            " 0     True\n",
            "1     True\n",
            "2     True\n",
            "3     True\n",
            "4    False\n",
            "dtype: bool\n",
            "****************************************************************************************************\n",
            "ser1<ser2 \n",
            " 0    False\n",
            "1    False\n",
            "2    False\n",
            "3    False\n",
            "4    False\n",
            "dtype: bool\n"
          ]
        }
      ]
    },
    {
      "cell_type": "markdown",
      "source": [
        "# question 5"
      ],
      "metadata": {
        "id": "KjHKrjVARUHp"
      }
    },
    {
      "cell_type": "code",
      "source": [
        "\"\"\"\n",
        "5. Write a Pandas program to convert a dictionary to a Pandas series.\n",
        "\n",
        "\"\"\"\n",
        "\n",
        "my_dict={\"name\":\"mohamed\",\"age\":27 , \"address\":\"Alexandria\" ,\"job\":\"Ai engineer\"}\n",
        "print(my_dict)\n",
        "print(type(my_dict))\n",
        "print(\"*\" * 100)\n",
        "\n",
        "my_series=pd.Series(my_dict)\n",
        "print(my_series)\n",
        "print(type(my_series))\n",
        "print(\"*\" * 100)\n",
        "\n"
      ],
      "metadata": {
        "colab": {
          "base_uri": "https://localhost:8080/"
        },
        "id": "E8VilXCINnar",
        "outputId": "7cd68ade-299c-40bf-d7d0-0fce26a73841"
      },
      "execution_count": null,
      "outputs": [
        {
          "output_type": "stream",
          "name": "stdout",
          "text": [
            "{'name': 'mohamed', 'age': 27, 'address': 'Alexandria', 'job': 'Ai engineer'}\n",
            "<class 'dict'>\n",
            "****************************************************************************************************\n",
            "name           mohamed\n",
            "age                 27\n",
            "address     Alexandria\n",
            "job        Ai engineer\n",
            "dtype: object\n",
            "<class 'pandas.core.series.Series'>\n",
            "****************************************************************************************************\n"
          ]
        }
      ]
    },
    {
      "cell_type": "markdown",
      "source": [
        "# question 6"
      ],
      "metadata": {
        "id": "y0tBo8CuShjL"
      }
    },
    {
      "cell_type": "code",
      "source": [
        "\n",
        "\"\"\"\n",
        "\n",
        "6. Write a Pandas program to get the index of an element of a given Series.\n",
        "\n",
        "\"\"\"\n",
        "\n",
        "a=[2, 4, 6, 8, 10]\n",
        "\n",
        "ser=pd.Series(a)\n",
        "ind=ser.loc[ser==10]\n",
        "print(ind)\n",
        "\n",
        "\n"
      ],
      "metadata": {
        "colab": {
          "base_uri": "https://localhost:8080/"
        },
        "id": "cqD3_FGsRzuA",
        "outputId": "7d9a58c1-3ce6-4bfa-ea2d-d6a18dca7bc2"
      },
      "execution_count": null,
      "outputs": [
        {
          "output_type": "stream",
          "name": "stdout",
          "text": [
            "4    10\n",
            "dtype: int64\n"
          ]
        }
      ]
    },
    {
      "cell_type": "markdown",
      "source": [
        "# question 7"
      ],
      "metadata": {
        "id": "IWjywjd6ZZGL"
      }
    },
    {
      "cell_type": "code",
      "source": [
        "\"\"\"\n",
        "7. Write a Pandas program to select rows by filtering on one or more column(s) in a\n",
        "multi-index  dataframe.\n",
        "\n",
        "\"\"\"\n",
        "\n",
        "\n",
        "# Create a multi-index DataFrame\n",
        "arrays = [['bar', 'bar', 'baz', 'baz', 'foo', 'foo', 'qux', 'qux'],\n",
        "          ['one', 'two', 'one', 'two', 'one', 'two', 'one', 'two']]\n",
        "tuples = list(zip(*arrays))\n",
        "index = pd.MultiIndex.from_tuples(tuples, names=['first', 'second'])\n",
        "df = pd.DataFrame({'A': [1, 2, 3, 4, 5, 6, 7, 8],\n",
        "                   'B': [4, 5, 6, 7, 8, 9, 10, 11]},\n",
        "                  index=index)\n",
        "\n",
        "print(df)\n",
        "print(\"*\" * 50)\n",
        "\n",
        "\n",
        "filtered_df = df[df['A'] == 4]\n",
        "\n",
        "\n",
        "filtered_df['A'] *= 10\n",
        "\n",
        "print(filtered_df)\n",
        "\n",
        "print(\"*\" * 50)\n",
        "\n",
        "\n",
        "\n"
      ],
      "metadata": {
        "colab": {
          "base_uri": "https://localhost:8080/"
        },
        "id": "7-LYwICYTBo9",
        "outputId": "d8432473-5723-4c0a-8984-c59f0c4b76e5"
      },
      "execution_count": null,
      "outputs": [
        {
          "output_type": "stream",
          "name": "stdout",
          "text": [
            "              A   B\n",
            "first second       \n",
            "bar   one     1   4\n",
            "      two     2   5\n",
            "baz   one     3   6\n",
            "      two     4   7\n",
            "foo   one     5   8\n",
            "      two     6   9\n",
            "qux   one     7  10\n",
            "      two     8  11\n",
            "**************************************************\n",
            "               A  B\n",
            "first second       \n",
            "baz   two     40  7\n",
            "**************************************************\n"
          ]
        },
        {
          "output_type": "stream",
          "name": "stderr",
          "text": [
            "<ipython-input-71-77086a3424af>:24: SettingWithCopyWarning: \n",
            "A value is trying to be set on a copy of a slice from a DataFrame.\n",
            "Try using .loc[row_indexer,col_indexer] = value instead\n",
            "\n",
            "See the caveats in the documentation: https://pandas.pydata.org/pandas-docs/stable/user_guide/indexing.html#returning-a-view-versus-a-copy\n",
            "  filtered_df['A'] *= 10\n"
          ]
        }
      ]
    },
    {
      "cell_type": "markdown",
      "source": [
        "# question 8"
      ],
      "metadata": {
        "id": "-wcAad7BgeU6"
      }
    },
    {
      "cell_type": "code",
      "source": [
        "\"\"\"\n",
        "8. Write a Pandas program to insert a column at a specific index in a given DataFrame.\n",
        "\n",
        "\"\"\"\n",
        "\n",
        "data={\"name\":[\"mohamed\",\"ahmed\",\"ammar\"],\"age\":[20,13,35]}\n",
        "df=pd.DataFrame(data)\n",
        "\n",
        "print(df)\n",
        "print(\"*\" * 50)\n",
        "\n",
        "df_address=df\n",
        "df_address.insert(1,\"address\",[\"alex\",\"tanta\",\"cairi\"])\n",
        "print(df_address)\n",
        "\n"
      ],
      "metadata": {
        "colab": {
          "base_uri": "https://localhost:8080/"
        },
        "id": "FJHjdw41c8dy",
        "outputId": "0bb6ae03-2dc1-479a-8129-9180a50f136b"
      },
      "execution_count": null,
      "outputs": [
        {
          "output_type": "stream",
          "name": "stdout",
          "text": [
            "      name  age\n",
            "0  mohamed   20\n",
            "1    ahmed   13\n",
            "2    ammar   35\n",
            "**************************************************\n",
            "      name address  age\n",
            "0  mohamed    alex   20\n",
            "1    ahmed   tanta   13\n",
            "2    ammar   cairi   35\n"
          ]
        }
      ]
    },
    {
      "cell_type": "markdown",
      "source": [
        "# question 9"
      ],
      "metadata": {
        "id": "wej8Fm4vjKMZ"
      }
    },
    {
      "cell_type": "code",
      "source": [
        "\"\"\"\n",
        "\n",
        "9. Write a Pandas program to create a dataframe from a dictionary and\n",
        "display it  Sample data: {'X':[78,85,96,80,86],\n",
        "'Y':[84,94,89,83,86],'Z':[86,97,96,72,83]}.\n",
        "\n",
        "\"\"\"\n",
        "\n",
        "data={'X':[78,85,96,80,86], 'Y':[84,94,89,83,86],'Z':[86,97,96,72,83]}\n",
        "\n",
        "df=pd.DataFrame(data)\n",
        "\n",
        "print(df)\n",
        "print(type(df))"
      ],
      "metadata": {
        "colab": {
          "base_uri": "https://localhost:8080/"
        },
        "id": "vqtKZ3SshjXa",
        "outputId": "0482b7b2-0391-4243-b54e-d122be8d7305"
      },
      "execution_count": null,
      "outputs": [
        {
          "output_type": "stream",
          "name": "stdout",
          "text": [
            "    X   Y   Z\n",
            "0  78  84  86\n",
            "1  85  94  97\n",
            "2  96  89  96\n",
            "3  80  83  72\n",
            "4  86  86  83\n",
            "<class 'pandas.core.frame.DataFrame'>\n"
          ]
        }
      ]
    },
    {
      "cell_type": "markdown",
      "source": [
        "# question 10"
      ],
      "metadata": {
        "id": "KKTh6qslkD9j"
      }
    },
    {
      "cell_type": "code",
      "source": [
        "\"\"\"\n",
        "\n",
        "10. Write a Pandas program to add one row in an existing DataFrame.\n",
        "Sample data:\n",
        "\n",
        "\"\"\"\n",
        "\n",
        "data={\"name\":[\"mohamed\",\"ahmed\",\"ammar\"],\"age\":[20,13,35]}\n",
        "df=pd.DataFrame(data)\n",
        "\n",
        "print(df)\n",
        "print(\"*\" * 50)\n",
        "\n",
        "df.loc[3]=[\"ali\",50]\n",
        "print(df)"
      ],
      "metadata": {
        "colab": {
          "base_uri": "https://localhost:8080/"
        },
        "id": "zuJkJ8cLjmFd",
        "outputId": "686451bc-d133-4f1e-b07f-68a43f67642a"
      },
      "execution_count": null,
      "outputs": [
        {
          "output_type": "stream",
          "name": "stdout",
          "text": [
            "      name  age\n",
            "0  mohamed   20\n",
            "1    ahmed   13\n",
            "2    ammar   35\n",
            "**************************************************\n",
            "      name  age\n",
            "0  mohamed   20\n",
            "1    ahmed   13\n",
            "2    ammar   35\n",
            "3      ali   50\n"
          ]
        }
      ]
    },
    {
      "cell_type": "code",
      "source": [],
      "metadata": {
        "id": "UqA-Me6YkbeJ"
      },
      "execution_count": null,
      "outputs": []
    }
  ]
}