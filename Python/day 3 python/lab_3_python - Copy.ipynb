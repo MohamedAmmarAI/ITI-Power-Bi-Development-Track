{
  "nbformat": 4,
  "nbformat_minor": 0,
  "metadata": {
    "colab": {
      "provenance": []
    },
    "kernelspec": {
      "name": "python3",
      "display_name": "Python 3"
    },
    "language_info": {
      "name": "python"
    }
  },
  "cells": [
    {
      "cell_type": "markdown",
      "source": [
        "## Lab 3: Object-Oriented Programming (OOP) Tasks"
      ],
      "metadata": {
        "id": "2JBARL4DL7NN"
      }
    },
    {
      "cell_type": "markdown",
      "source": [
        "# question 1"
      ],
      "metadata": {
        "id": "np17VKnKMDcp"
      }
    },
    {
      "cell_type": "code",
      "execution_count": null,
      "metadata": {
        "colab": {
          "base_uri": "https://localhost:8080/"
        },
        "id": "u9GTc14nK-TG",
        "outputId": "e17e0ee6-f5da-4730-b577-272563f0d1ab"
      },
      "outputs": [
        {
          "output_type": "stream",
          "name": "stdout",
          "text": [
            "the name is mohamed and the age is 27 and the student id is 1\n"
          ]
        }
      ],
      "source": [
        "\"\"\"\n",
        "1. Single Inheritance Task\n",
        "Task:\n",
        "Create a Person class with attributes like name and age, and a Student class that inherits\n",
        "from  Person and adds a student_id.\n",
        "\n",
        "\"\"\"\n",
        "\n",
        "class Person: # create class\n",
        "  def __init__(self,name,age):  # constructor\n",
        "    self.name=name\n",
        "    self.age=age\n",
        "\n",
        "class Student(Person): # Student class that inherits from  Person\n",
        "  def __init__(self,name,age,student_id):\n",
        "    super().__init__(name,age)\n",
        "    self.student_id=student_id\n",
        "  def welcome_to(self):\n",
        "    print(f\"the name is {self.name} and the age is {self.age} and the student id is {self.student_id}\")\n",
        "\n",
        "e=Student(\"mohamed\",27,1)\n",
        "e.welcome_to()\n",
        "\n"
      ]
    },
    {
      "cell_type": "markdown",
      "source": [
        "# Question 2"
      ],
      "metadata": {
        "id": "-b_1mFvHSlKL"
      }
    },
    {
      "cell_type": "code",
      "source": [
        "\"\"\"\n",
        "2. Multiple Inheritance Task\n",
        "Task:\n",
        "Implement a Sports class and an Academics class. Create a Student class that inherits\n",
        "from  both and displays the total achievements of a student in sports and academics.\n",
        "\n",
        "\"\"\"\n",
        "\n",
        "class sports_class:\n",
        "  def __init__(self,score_s):\n",
        "    self.score_s=score_s\n",
        "\n",
        "class academic_class:\n",
        "  def __init__(self,score_a):\n",
        "    self.score_a=score_a\n",
        "\n",
        "class student(sports_class,academic_class):\n",
        "  def __init__(self,name,address,age,score_s,score_a):\n",
        "    sports_class.__init__(self,score_s)\n",
        "    academic_class.__init__(self,score_a)\n",
        "    self.name=name\n",
        "    self.address=address\n",
        "    self.age=age\n",
        "\n",
        "  def total_achievment(self):\n",
        "    self.total_scores=self.score_a+self.score_s\n",
        "    print(f\"the name is {self.name} and the age is {self.age} and the address is {self.address} and the total_achivement is {self.total_scores}\")\n",
        "\n",
        "e=student(\"mohamed\",\"Alex\",27,100,200)\n",
        "e.total_achievment()\n",
        "\n"
      ],
      "metadata": {
        "colab": {
          "base_uri": "https://localhost:8080/"
        },
        "id": "ysZVXiUkMMlk",
        "outputId": "b1f3b865-8a99-4bca-cec3-92de1ee86b28"
      },
      "execution_count": null,
      "outputs": [
        {
          "output_type": "stream",
          "name": "stdout",
          "text": [
            "the name is mohamed and the age is 27 and the address is Alex and the total_achivement is 300\n"
          ]
        }
      ]
    },
    {
      "cell_type": "markdown",
      "source": [
        "# question 3"
      ],
      "metadata": {
        "id": "kNnVopQ3d8IT"
      }
    },
    {
      "cell_type": "code",
      "source": [
        "\"\"\"\n",
        "\n",
        "3. Multilevel Inheritance Task\n",
        "Task:\n",
        "Create a class Animal, then inherit it into Mammal, and finally inherit Dog from Mammal. Add\n",
        "unique attributes/methods at each level and demonstrate calling methods from different\n",
        "levels.\n",
        "\n",
        "\"\"\"\n",
        "\n",
        "class Animal:\n",
        "  def __init__(self,name):\n",
        "    self.name=name\n",
        "  def eat(self):\n",
        "    return f\"{self.name} is eating\"\n",
        "\n",
        "class Mammal(Animal):\n",
        "  def __init__(self,name,color):\n",
        "    super().__init__(name)\n",
        "    self.color=color\n",
        "\n",
        "  def drink(self):\n",
        "    return f\"{self.name} is drinking\"\n",
        "\n",
        "class Dog(Mammal):\n",
        "  def __init__(self,name,color,type):\n",
        "    super().__init__(name,color)\n",
        "    self.type=type\n",
        "\n",
        "  def run(self):\n",
        "    return f\"{self.name} is running\"\n",
        "\n",
        "his_dog=Dog(\"mezo\",\"white\",\"wolf\")\n",
        "print(his_dog.eat())\n",
        "print(his_dog.drink())\n",
        "print(his_dog.run())\n",
        "\n",
        "\n",
        "\n",
        "\n",
        "\n",
        "\n"
      ],
      "metadata": {
        "colab": {
          "base_uri": "https://localhost:8080/"
        },
        "id": "I27PVxdQbxXz",
        "outputId": "87f654f2-7c78-463f-cfc1-4483c3535c19"
      },
      "execution_count": null,
      "outputs": [
        {
          "output_type": "stream",
          "name": "stdout",
          "text": [
            "mezo is eating\n",
            "mezo is drinking\n",
            "mezo is running\n"
          ]
        }
      ]
    },
    {
      "cell_type": "markdown",
      "source": [
        "# question 4"
      ],
      "metadata": {
        "id": "MAUiuaaMs9sE"
      }
    },
    {
      "cell_type": "code",
      "source": [
        "\"\"\"\n",
        "\n",
        "4. Method Overriding (Polymorphism) Task\n",
        "Task:\n",
        "Create a Shape class with a draw() method, then create Circle and Rectangle classes\n",
        "that  override the draw() method.\n",
        "\n",
        "\"\"\"\n",
        "\n",
        "\n",
        "class shape:\n",
        "  def draw(self):\n",
        "    return \"please draw the shape\"\n",
        "\n",
        "class Circle(shape):\n",
        "  def draw(self):\n",
        "    return \"please draw the circle\"\n",
        "\n",
        "class Rectangle(shape):\n",
        "  def draw(self):\n",
        "    return \"please draw the rectangle\"\n",
        "\n",
        "cir_object=Circle()\n",
        "rec_object=Rectangle()\n",
        "print(cir_object.draw())\n",
        "print(rec_object.draw())\n",
        "\n",
        "\n",
        "\n"
      ],
      "metadata": {
        "colab": {
          "base_uri": "https://localhost:8080/"
        },
        "id": "uemZMevrmzMJ",
        "outputId": "d38c35e9-2433-4c22-edcf-12ba10513f39"
      },
      "execution_count": null,
      "outputs": [
        {
          "output_type": "stream",
          "name": "stdout",
          "text": [
            "please draw the circle\n",
            "please draw the rectangle\n"
          ]
        }
      ]
    },
    {
      "cell_type": "markdown",
      "source": [
        "# question 5"
      ],
      "metadata": {
        "id": "bpAOrcoa1DMX"
      }
    },
    {
      "cell_type": "code",
      "source": [
        "\"\"\"\n",
        "\n",
        "5. Encapsulation Task\n",
        "Task:\n",
        "Create a BankAccount class with private attributes _balance. Implement deposit() and\n",
        "withdraw() methods and ensure withdrawal is not possible if the balance is insufficient.\n",
        "\n",
        "\"\"\"\n",
        "\n",
        "class BankAccount:\n",
        "  def __init__(self, balance):\n",
        "    self.__balance = balance\n",
        "\n",
        "  def deposite(self,amount):\n",
        "    if amount<=0:\n",
        "      return \"invalid amount\"\n",
        "    else:\n",
        "       self.__balance+=amount\n",
        "       return f\"the new balance is {self.__balance}\"\n",
        "\n",
        "  def withdraw(self,amount):\n",
        "    if amount<=0:\n",
        "      return \"invalid amount\"\n",
        "    elif amount>self.__balance:\n",
        "      return \"insufficient balance\"\n",
        "    else:\n",
        "      self.__balance-=amount\n",
        "      return f\"the new balance is {self.__balance}\"\n",
        "\n",
        "  def Know_balance(self):\n",
        "    return f\"the current balance is {self.__balance}\"\n",
        "\n",
        "e=BankAccount(2000)\n",
        "print(e.Know_balance())\n",
        "print(e.deposite(1000))\n",
        "print(e.withdraw(500))\n",
        "print(e.Know_balance())\n",
        "\n",
        "\n",
        "\n",
        "\n"
      ],
      "metadata": {
        "colab": {
          "base_uri": "https://localhost:8080/"
        },
        "id": "Ctxzg3Xo0wvy",
        "outputId": "31f1e588-dec7-46ab-cf0e-81f25c8f418b"
      },
      "execution_count": null,
      "outputs": [
        {
          "output_type": "stream",
          "name": "stdout",
          "text": [
            "the current balance is 2000\n",
            "the new balance is 3000\n",
            "the new balance is 2500\n",
            "the current balance is 2500\n"
          ]
        }
      ]
    },
    {
      "cell_type": "markdown",
      "source": [
        "# Search for IT"
      ],
      "metadata": {
        "id": "VfGkWCiyIhfI"
      }
    },
    {
      "cell_type": "code",
      "source": [
        "\"\"\"\n",
        "\n",
        "• Can We Do Overloading in Python?\n",
        "If Yes, Tell me How??\n",
        "If No, Tell me Why??\n",
        "\n",
        "\"\"\"\n",
        "\n",
        "# answer ---> yes,  python support method overloading\n",
        "# How Can i achieve Method Overloading in Python?\n",
        "\n",
        "class sum:\n",
        "  def add(self,*args):\n",
        "    total = 0\n",
        "    for num in args:\n",
        "      total+= num\n",
        "    return total\n",
        "\n",
        "e=sum()\n",
        "print(e.add(5))          # 5\n",
        "print(e.add(5, 10))      # 15\n",
        "print(e.add(5, 10, 15))  # 30\n",
        "\n",
        "\n",
        "\n",
        "\n",
        "\n"
      ],
      "metadata": {
        "colab": {
          "base_uri": "https://localhost:8080/"
        },
        "id": "QHuDlBQu1kV9",
        "outputId": "cd577161-a83b-4ab3-effe-a505648a2732"
      },
      "execution_count": null,
      "outputs": [
        {
          "output_type": "stream",
          "name": "stdout",
          "text": [
            "5\n",
            "15\n",
            "30\n"
          ]
        }
      ]
    },
    {
      "cell_type": "code",
      "source": [
        "# Python does not support Method Overloading in the traditional sense as seen in languages like Java or C++\n",
        "\n",
        "class sum:\n",
        "  def sum(self,a,b):\n",
        "    return a+b\n",
        "  def sum(self,a,b,c):\n",
        "    return a+b+c\n",
        "\n",
        "e=sum()\n",
        "e.sum(5,10)"
      ],
      "metadata": {
        "colab": {
          "base_uri": "https://localhost:8080/",
          "height": 176
        },
        "id": "YWTy0wlmJjmK",
        "outputId": "cee6b0c5-a028-47a4-8879-65a7195527ac"
      },
      "execution_count": null,
      "outputs": [
        {
          "output_type": "error",
          "ename": "TypeError",
          "evalue": "sum.sum() missing 1 required positional argument: 'c'",
          "traceback": [
            "\u001b[0;31m---------------------------------------------------------------------------\u001b[0m",
            "\u001b[0;31mTypeError\u001b[0m                                 Traceback (most recent call last)",
            "\u001b[0;32m<ipython-input-40-f8bea7316799>\u001b[0m in \u001b[0;36m<cell line: 0>\u001b[0;34m()\u001b[0m\n\u001b[1;32m      8\u001b[0m \u001b[0;34m\u001b[0m\u001b[0m\n\u001b[1;32m      9\u001b[0m \u001b[0me\u001b[0m\u001b[0;34m=\u001b[0m\u001b[0msum\u001b[0m\u001b[0;34m(\u001b[0m\u001b[0;34m)\u001b[0m\u001b[0;34m\u001b[0m\u001b[0;34m\u001b[0m\u001b[0m\n\u001b[0;32m---> 10\u001b[0;31m \u001b[0me\u001b[0m\u001b[0;34m.\u001b[0m\u001b[0msum\u001b[0m\u001b[0;34m(\u001b[0m\u001b[0;36m5\u001b[0m\u001b[0;34m,\u001b[0m\u001b[0;36m10\u001b[0m\u001b[0;34m)\u001b[0m\u001b[0;34m\u001b[0m\u001b[0;34m\u001b[0m\u001b[0m\n\u001b[0m",
            "\u001b[0;31mTypeError\u001b[0m: sum.sum() missing 1 required positional argument: 'c'"
          ]
        }
      ]
    },
    {
      "cell_type": "code",
      "source": [
        "\"\"\"\n",
        "\n",
        "• protected access modifier and clarify your searching with example and what is\n",
        "different between protected and public in python\n",
        "\n",
        "\"\"\"\n",
        "\n",
        "# Protected Access Modifier: Theoretically, protected methods and fields can be accessed within the same class it is declared and its subclass.\n",
        "# Public Access Modifier: Theoretically, public methods and fields can be accessed directly by any class.\n",
        "\n",
        "class MyClass:\n",
        "    def __init__(self):\n",
        "        self.public= \"I am public\"  # Public attribute\n",
        "        self._protected = \"I am protected\"  # Protected attribute\n",
        "\n",
        "    def public_method(self):\n",
        "        return \"This is public method\"\n",
        "\n",
        "    def protected_method(self):\n",
        "        return \"This is protected method\"\n",
        "\n",
        "obj = MyClass()\n",
        "\n",
        "# attributes\n",
        "print(obj.public)\n",
        "print(obj._protected)\n",
        "\n",
        "# methods\n",
        "print(obj.protected_method())\n",
        "print(obj.public_method())\n",
        "\n"
      ],
      "metadata": {
        "colab": {
          "base_uri": "https://localhost:8080/"
        },
        "id": "ZGBz_gyxdQD4",
        "outputId": "f2edd9e5-247a-47b6-e71e-7d821d2a884c"
      },
      "execution_count": null,
      "outputs": [
        {
          "output_type": "stream",
          "name": "stdout",
          "text": [
            "I am public\n",
            "I am protected\n",
            "This is protected method\n",
            "This is public method\n"
          ]
        }
      ]
    },
    {
      "cell_type": "markdown",
      "source": [
        "#  Bounce"
      ],
      "metadata": {
        "id": "_3mcYnROaFD8"
      }
    },
    {
      "cell_type": "code",
      "source": [
        "\"\"\"\n",
        "\n",
        "Real-World OOP Scenario Task: E-commerce System.\n",
        "• Task: Build a simple E-commerce system with classes like User, Product,\n",
        "Order, and Payment. Use inheritance (e.g., AdminUser and Customer from\n",
        "User) and encapsulation for secure data handling.\n",
        "\n",
        "\"\"\"\n",
        "\n",
        "class User:\n",
        "    def __init__(self, user_id, name, email):\n",
        "        self._user_id = user_id\n",
        "        self._name = name\n",
        "        self._email = email\n",
        "\n",
        "class AdminUser(User):\n",
        "    def __init__(self, user_id, name, email):\n",
        "        super().__init__(user_id, name, email)\n",
        "\n",
        "    def add_product(self, product_list, product):\n",
        "        product_list.append(product)\n",
        "        print(f\"Product '{product.get_name()}' added by Admin {self._name}.\")\n",
        "\n",
        "    def remove_product(self, product_list, product):\n",
        "        if product in product_list:\n",
        "            product_list.remove(product)\n",
        "            print(f\"Product '{product.get_name()}' removed by Admin {self._name}.\")\n",
        "        else:\n",
        "            print(f\"Product '{product.get_name()}' not found.\")\n",
        "class Customer(User):\n",
        "    def __init__(self, user_id, name, email):\n",
        "        super().__init__(user_id, name, email)\n",
        "        self._orders = []\n",
        "\n",
        "    def place_order(self, product_list, product_ids):\n",
        "        order = Order(self._user_id)\n",
        "        for product_id in product_ids:\n",
        "            product = next((p for p in product_list if p.get_product_id() == product_id), None)\n",
        "            if product and product.get_stock() > 0:\n",
        "                order.add_product(product)\n",
        "                product.reduce_stock()\n",
        "            else:\n",
        "                print(f\"Product ID {product_id} is out of stock or does not exist.\")\n",
        "        if order.get_products():\n",
        "            self._orders.append(order)\n",
        "            print(f\"Order placed successfully. Total Amount: ${order.get_total_amount():.2f}\")\n",
        "        else:\n",
        "            print(\"No products added to the order.\")\n",
        "\n",
        "    def view_orders(self):\n",
        "        for order in self._orders:\n",
        "            order.display_order()\n",
        "\n",
        "class Product:\n",
        "    def __init__(self, product_id, name, price, stock):\n",
        "        self._product_id = product_id\n",
        "        self._name = name\n",
        "        self._price = price\n",
        "        self._stock = stock\n",
        "\n",
        "    def get_product_id(self):\n",
        "        return self._product_id\n",
        "\n",
        "    def get_name(self):\n",
        "        return self._name\n",
        "\n",
        "    def get_price(self):\n",
        "        return self._price\n",
        "\n",
        "    def get_stock(self):\n",
        "        return self._stock\n",
        "\n",
        "    def reduce_stock(self):\n",
        "        if self._stock > 0:\n",
        "            self._stock -= 1\n",
        "        else:\n",
        "            print(f\"Product '{self._name}' is out of stock.\")\n",
        "\n",
        "    def display_info(self):\n",
        "        print(f\"Product ID: {self._product_id}, Name: {self._name}, Price: ${self._price:.2f}, Stock: {self._stock}\")\n",
        "\n",
        "class Order:\n",
        "    def __init__(self, user_id):\n",
        "        self._user_id = user_id\n",
        "        self._products = []\n",
        "        self._total_amount = 0\n",
        "\n",
        "    def add_product(self, product):\n",
        "        self._products.append(product)\n",
        "        self._total_amount += product.get_price()\n",
        "    def get_products(self):\n",
        "        return self._products\n",
        "\n",
        "    def get_total_amount(self):\n",
        "        return self._total_amount\n",
        "\n",
        "    def display_order(self):\n",
        "        print(f\"Order for User ID {self._user_id}:\")\n",
        "        for product in self._products:\n",
        "            print(f\"- {product.get_name()} (${product.get_price():.2f})\")\n",
        "        print(f\"Total Amount: ${self._total_amount:.2f}\")\n",
        "\n",
        "class Payment:\n",
        "    @staticmethod\n",
        "    def process_payment(order):\n",
        "        if order.get_total_amount() > 0:\n",
        "            print(f\"Processing payment of ${order.get_total_amount():.2f}...\")\n",
        "            print(\"Payment successful!\")\n",
        "        else:\n",
        "            print(\"No items in the order to process payment.\")\n",
        "\n",
        "if __name__ == \"__main__\":\n",
        "    # Create some products\n",
        "    product1 = Product(1, \"tshirt\", 900, 10)\n",
        "    product2 = Product(2, \"shoes\", 600, 5)\n",
        "\n",
        "    # Create an admin user\n",
        "    admin = AdminUser(101, \"mohamed\", \"mohamed@gmail.com\")\n",
        "\n",
        "    product_list = []\n",
        "    admin.add_product(product_list, product1)\n",
        "    admin.add_product(product_list, product2)\n",
        "\n",
        "    customer = Customer(201, \"Ali\", \"ali@gmail.com\")\n",
        "\n",
        "    customer.place_order(product_list, [1, 2])\n",
        "\n",
        "    customer.view_orders()\n",
        "\n",
        "    if customer._orders:\n",
        "        Payment.process_payment(customer._orders[0])\n",
        "\n"
      ],
      "metadata": {
        "colab": {
          "base_uri": "https://localhost:8080/"
        },
        "id": "BU_JDNO2zsjP",
        "outputId": "96262760-40ef-4d12-eea0-a54db5ec2521"
      },
      "execution_count": null,
      "outputs": [
        {
          "output_type": "stream",
          "name": "stdout",
          "text": [
            "Product 'tshirt' added by Admin mohamed.\n",
            "Product 'shoes' added by Admin mohamed.\n",
            "Order placed successfully. Total Amount: $1500.00\n",
            "Order for User ID 201:\n",
            "- tshirt ($900.00)\n",
            "- shoes ($600.00)\n",
            "Total Amount: $1500.00\n",
            "Processing payment of $1500.00...\n",
            "Payment successful!\n"
          ]
        }
      ]
    },
    {
      "cell_type": "code",
      "source": [],
      "metadata": {
        "id": "QYlw8BmAeBQA"
      },
      "execution_count": null,
      "outputs": []
    }
  ]
}