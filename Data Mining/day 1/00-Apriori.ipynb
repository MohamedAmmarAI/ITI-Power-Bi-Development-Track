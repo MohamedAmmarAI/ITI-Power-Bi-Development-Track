{
 "cells": [
  {
   "cell_type": "code",
   "execution_count": null,
   "metadata": {},
   "outputs": [],
   "source": []
  },
  {
   "cell_type": "markdown",
   "metadata": {
    "id": "IWxYP3sJcqMh"
   },
   "source": [
    "## Import the Library"
   ]
  },
  {
   "cell_type": "code",
   "execution_count": 1,
   "metadata": {
    "ExecuteTime": {
     "end_time": "2019-05-31T11:46:52.394081Z",
     "start_time": "2019-05-31T11:46:51.727017Z"
    },
    "executionInfo": {
     "elapsed": 696,
     "status": "ok",
     "timestamp": 1676051825452,
     "user": {
      "displayName": "Doaa Mahmoud",
      "userId": "01621656496421117477"
     },
     "user_tz": -120
    },
    "id": "ez0ZUCFbcqMi"
   },
   "outputs": [],
   "source": [
    "import numpy as np\n",
    "import pandas as pd\n",
    "import matplotlib.pyplot as plt\n",
    "#from apyori import apriori"
   ]
  },
  {
   "cell_type": "code",
   "execution_count": null,
   "metadata": {
    "colab": {
     "base_uri": "https://localhost:8080/"
    },
    "executionInfo": {
     "elapsed": 7228,
     "status": "ok",
     "timestamp": 1676051836014,
     "user": {
      "displayName": "Doaa Mahmoud",
      "userId": "01621656496421117477"
     },
     "user_tz": -120
    },
    "id": "THBLZCDKcqMj",
    "outputId": "4e115b71-9df1-47bd-de04-1d538e424ac3"
   },
   "outputs": [],
   "source": [
    "#pip install apyori"
   ]
  },
  {
   "cell_type": "code",
   "execution_count": null,
   "metadata": {
    "executionInfo": {
     "elapsed": 2,
     "status": "ok",
     "timestamp": 1676051842568,
     "user": {
      "displayName": "Doaa Mahmoud",
      "userId": "01621656496421117477"
     },
     "user_tz": -120
    },
    "id": "ojjwOkskeXJQ"
   },
   "outputs": [],
   "source": [
    "from apyori import apriori"
   ]
  },
  {
   "cell_type": "markdown",
   "metadata": {
    "id": "7tnV4H2_cqMk"
   },
   "source": [
    "## Read data and Display"
   ]
  },
  {
   "cell_type": "code",
   "execution_count": 2,
   "metadata": {
    "ExecuteTime": {
     "end_time": "2019-05-31T11:46:52.446120Z",
     "start_time": "2019-05-31T11:46:52.396020Z"
    },
    "colab": {
     "base_uri": "https://localhost:8080/",
     "height": 592
    },
    "executionInfo": {
     "elapsed": 731,
     "status": "ok",
     "timestamp": 1676051860928,
     "user": {
      "displayName": "Doaa Mahmoud",
      "userId": "01621656496421117477"
     },
     "user_tz": -120
    },
    "id": "uqFxOiIacqMl",
    "outputId": "4bc89762-623d-40a5-812b-852a1409587a"
   },
   "outputs": [
    {
     "data": {
      "text/html": [
       "<div>\n",
       "<style scoped>\n",
       "    .dataframe tbody tr th:only-of-type {\n",
       "        vertical-align: middle;\n",
       "    }\n",
       "\n",
       "    .dataframe tbody tr th {\n",
       "        vertical-align: top;\n",
       "    }\n",
       "\n",
       "    .dataframe thead th {\n",
       "        text-align: right;\n",
       "    }\n",
       "</style>\n",
       "<table border=\"1\" class=\"dataframe\">\n",
       "  <thead>\n",
       "    <tr style=\"text-align: right;\">\n",
       "      <th></th>\n",
       "      <th>0</th>\n",
       "      <th>1</th>\n",
       "      <th>2</th>\n",
       "      <th>3</th>\n",
       "      <th>4</th>\n",
       "      <th>5</th>\n",
       "      <th>6</th>\n",
       "      <th>7</th>\n",
       "      <th>8</th>\n",
       "      <th>9</th>\n",
       "      <th>10</th>\n",
       "      <th>11</th>\n",
       "      <th>12</th>\n",
       "      <th>13</th>\n",
       "      <th>14</th>\n",
       "      <th>15</th>\n",
       "      <th>16</th>\n",
       "      <th>17</th>\n",
       "      <th>18</th>\n",
       "      <th>19</th>\n",
       "    </tr>\n",
       "  </thead>\n",
       "  <tbody>\n",
       "    <tr>\n",
       "      <th>0</th>\n",
       "      <td>shrimp</td>\n",
       "      <td>almonds</td>\n",
       "      <td>avocado</td>\n",
       "      <td>vegetables mix</td>\n",
       "      <td>green grapes</td>\n",
       "      <td>whole weat flour</td>\n",
       "      <td>yams</td>\n",
       "      <td>cottage cheese</td>\n",
       "      <td>energy drink</td>\n",
       "      <td>tomato juice</td>\n",
       "      <td>low fat yogurt</td>\n",
       "      <td>green tea</td>\n",
       "      <td>honey</td>\n",
       "      <td>salad</td>\n",
       "      <td>mineral water</td>\n",
       "      <td>salmon</td>\n",
       "      <td>antioxydant juice</td>\n",
       "      <td>frozen smoothie</td>\n",
       "      <td>spinach</td>\n",
       "      <td>olive oil</td>\n",
       "    </tr>\n",
       "    <tr>\n",
       "      <th>1</th>\n",
       "      <td>burgers</td>\n",
       "      <td>meatballs</td>\n",
       "      <td>eggs</td>\n",
       "      <td>NaN</td>\n",
       "      <td>NaN</td>\n",
       "      <td>NaN</td>\n",
       "      <td>NaN</td>\n",
       "      <td>NaN</td>\n",
       "      <td>NaN</td>\n",
       "      <td>NaN</td>\n",
       "      <td>NaN</td>\n",
       "      <td>NaN</td>\n",
       "      <td>NaN</td>\n",
       "      <td>NaN</td>\n",
       "      <td>NaN</td>\n",
       "      <td>NaN</td>\n",
       "      <td>NaN</td>\n",
       "      <td>NaN</td>\n",
       "      <td>NaN</td>\n",
       "      <td>NaN</td>\n",
       "    </tr>\n",
       "    <tr>\n",
       "      <th>2</th>\n",
       "      <td>chutney</td>\n",
       "      <td>NaN</td>\n",
       "      <td>NaN</td>\n",
       "      <td>NaN</td>\n",
       "      <td>NaN</td>\n",
       "      <td>NaN</td>\n",
       "      <td>NaN</td>\n",
       "      <td>NaN</td>\n",
       "      <td>NaN</td>\n",
       "      <td>NaN</td>\n",
       "      <td>NaN</td>\n",
       "      <td>NaN</td>\n",
       "      <td>NaN</td>\n",
       "      <td>NaN</td>\n",
       "      <td>NaN</td>\n",
       "      <td>NaN</td>\n",
       "      <td>NaN</td>\n",
       "      <td>NaN</td>\n",
       "      <td>NaN</td>\n",
       "      <td>NaN</td>\n",
       "    </tr>\n",
       "    <tr>\n",
       "      <th>3</th>\n",
       "      <td>turkey</td>\n",
       "      <td>avocado</td>\n",
       "      <td>NaN</td>\n",
       "      <td>NaN</td>\n",
       "      <td>NaN</td>\n",
       "      <td>NaN</td>\n",
       "      <td>NaN</td>\n",
       "      <td>NaN</td>\n",
       "      <td>NaN</td>\n",
       "      <td>NaN</td>\n",
       "      <td>NaN</td>\n",
       "      <td>NaN</td>\n",
       "      <td>NaN</td>\n",
       "      <td>NaN</td>\n",
       "      <td>NaN</td>\n",
       "      <td>NaN</td>\n",
       "      <td>NaN</td>\n",
       "      <td>NaN</td>\n",
       "      <td>NaN</td>\n",
       "      <td>NaN</td>\n",
       "    </tr>\n",
       "    <tr>\n",
       "      <th>4</th>\n",
       "      <td>mineral water</td>\n",
       "      <td>milk</td>\n",
       "      <td>energy bar</td>\n",
       "      <td>whole wheat rice</td>\n",
       "      <td>green tea</td>\n",
       "      <td>NaN</td>\n",
       "      <td>NaN</td>\n",
       "      <td>NaN</td>\n",
       "      <td>NaN</td>\n",
       "      <td>NaN</td>\n",
       "      <td>NaN</td>\n",
       "      <td>NaN</td>\n",
       "      <td>NaN</td>\n",
       "      <td>NaN</td>\n",
       "      <td>NaN</td>\n",
       "      <td>NaN</td>\n",
       "      <td>NaN</td>\n",
       "      <td>NaN</td>\n",
       "      <td>NaN</td>\n",
       "      <td>NaN</td>\n",
       "    </tr>\n",
       "    <tr>\n",
       "      <th>...</th>\n",
       "      <td>...</td>\n",
       "      <td>...</td>\n",
       "      <td>...</td>\n",
       "      <td>...</td>\n",
       "      <td>...</td>\n",
       "      <td>...</td>\n",
       "      <td>...</td>\n",
       "      <td>...</td>\n",
       "      <td>...</td>\n",
       "      <td>...</td>\n",
       "      <td>...</td>\n",
       "      <td>...</td>\n",
       "      <td>...</td>\n",
       "      <td>...</td>\n",
       "      <td>...</td>\n",
       "      <td>...</td>\n",
       "      <td>...</td>\n",
       "      <td>...</td>\n",
       "      <td>...</td>\n",
       "      <td>...</td>\n",
       "    </tr>\n",
       "    <tr>\n",
       "      <th>7496</th>\n",
       "      <td>butter</td>\n",
       "      <td>light mayo</td>\n",
       "      <td>fresh bread</td>\n",
       "      <td>NaN</td>\n",
       "      <td>NaN</td>\n",
       "      <td>NaN</td>\n",
       "      <td>NaN</td>\n",
       "      <td>NaN</td>\n",
       "      <td>NaN</td>\n",
       "      <td>NaN</td>\n",
       "      <td>NaN</td>\n",
       "      <td>NaN</td>\n",
       "      <td>NaN</td>\n",
       "      <td>NaN</td>\n",
       "      <td>NaN</td>\n",
       "      <td>NaN</td>\n",
       "      <td>NaN</td>\n",
       "      <td>NaN</td>\n",
       "      <td>NaN</td>\n",
       "      <td>NaN</td>\n",
       "    </tr>\n",
       "    <tr>\n",
       "      <th>7497</th>\n",
       "      <td>burgers</td>\n",
       "      <td>frozen vegetables</td>\n",
       "      <td>eggs</td>\n",
       "      <td>french fries</td>\n",
       "      <td>magazines</td>\n",
       "      <td>green tea</td>\n",
       "      <td>NaN</td>\n",
       "      <td>NaN</td>\n",
       "      <td>NaN</td>\n",
       "      <td>NaN</td>\n",
       "      <td>NaN</td>\n",
       "      <td>NaN</td>\n",
       "      <td>NaN</td>\n",
       "      <td>NaN</td>\n",
       "      <td>NaN</td>\n",
       "      <td>NaN</td>\n",
       "      <td>NaN</td>\n",
       "      <td>NaN</td>\n",
       "      <td>NaN</td>\n",
       "      <td>NaN</td>\n",
       "    </tr>\n",
       "    <tr>\n",
       "      <th>7498</th>\n",
       "      <td>chicken</td>\n",
       "      <td>NaN</td>\n",
       "      <td>NaN</td>\n",
       "      <td>NaN</td>\n",
       "      <td>NaN</td>\n",
       "      <td>NaN</td>\n",
       "      <td>NaN</td>\n",
       "      <td>NaN</td>\n",
       "      <td>NaN</td>\n",
       "      <td>NaN</td>\n",
       "      <td>NaN</td>\n",
       "      <td>NaN</td>\n",
       "      <td>NaN</td>\n",
       "      <td>NaN</td>\n",
       "      <td>NaN</td>\n",
       "      <td>NaN</td>\n",
       "      <td>NaN</td>\n",
       "      <td>NaN</td>\n",
       "      <td>NaN</td>\n",
       "      <td>NaN</td>\n",
       "    </tr>\n",
       "    <tr>\n",
       "      <th>7499</th>\n",
       "      <td>escalope</td>\n",
       "      <td>green tea</td>\n",
       "      <td>NaN</td>\n",
       "      <td>NaN</td>\n",
       "      <td>NaN</td>\n",
       "      <td>NaN</td>\n",
       "      <td>NaN</td>\n",
       "      <td>NaN</td>\n",
       "      <td>NaN</td>\n",
       "      <td>NaN</td>\n",
       "      <td>NaN</td>\n",
       "      <td>NaN</td>\n",
       "      <td>NaN</td>\n",
       "      <td>NaN</td>\n",
       "      <td>NaN</td>\n",
       "      <td>NaN</td>\n",
       "      <td>NaN</td>\n",
       "      <td>NaN</td>\n",
       "      <td>NaN</td>\n",
       "      <td>NaN</td>\n",
       "    </tr>\n",
       "    <tr>\n",
       "      <th>7500</th>\n",
       "      <td>eggs</td>\n",
       "      <td>frozen smoothie</td>\n",
       "      <td>yogurt cake</td>\n",
       "      <td>low fat yogurt</td>\n",
       "      <td>NaN</td>\n",
       "      <td>NaN</td>\n",
       "      <td>NaN</td>\n",
       "      <td>NaN</td>\n",
       "      <td>NaN</td>\n",
       "      <td>NaN</td>\n",
       "      <td>NaN</td>\n",
       "      <td>NaN</td>\n",
       "      <td>NaN</td>\n",
       "      <td>NaN</td>\n",
       "      <td>NaN</td>\n",
       "      <td>NaN</td>\n",
       "      <td>NaN</td>\n",
       "      <td>NaN</td>\n",
       "      <td>NaN</td>\n",
       "      <td>NaN</td>\n",
       "    </tr>\n",
       "  </tbody>\n",
       "</table>\n",
       "<p>7501 rows × 20 columns</p>\n",
       "</div>"
      ],
      "text/plain": [
       "                 0                  1            2                 3   \\\n",
       "0            shrimp            almonds      avocado    vegetables mix   \n",
       "1           burgers          meatballs         eggs               NaN   \n",
       "2           chutney                NaN          NaN               NaN   \n",
       "3            turkey            avocado          NaN               NaN   \n",
       "4     mineral water               milk   energy bar  whole wheat rice   \n",
       "...             ...                ...          ...               ...   \n",
       "7496         butter         light mayo  fresh bread               NaN   \n",
       "7497        burgers  frozen vegetables         eggs      french fries   \n",
       "7498        chicken                NaN          NaN               NaN   \n",
       "7499       escalope          green tea          NaN               NaN   \n",
       "7500           eggs    frozen smoothie  yogurt cake    low fat yogurt   \n",
       "\n",
       "                4                 5     6               7             8   \\\n",
       "0     green grapes  whole weat flour  yams  cottage cheese  energy drink   \n",
       "1              NaN               NaN   NaN             NaN           NaN   \n",
       "2              NaN               NaN   NaN             NaN           NaN   \n",
       "3              NaN               NaN   NaN             NaN           NaN   \n",
       "4        green tea               NaN   NaN             NaN           NaN   \n",
       "...            ...               ...   ...             ...           ...   \n",
       "7496           NaN               NaN   NaN             NaN           NaN   \n",
       "7497     magazines         green tea   NaN             NaN           NaN   \n",
       "7498           NaN               NaN   NaN             NaN           NaN   \n",
       "7499           NaN               NaN   NaN             NaN           NaN   \n",
       "7500           NaN               NaN   NaN             NaN           NaN   \n",
       "\n",
       "                9               10         11     12     13             14  \\\n",
       "0     tomato juice  low fat yogurt  green tea  honey  salad  mineral water   \n",
       "1              NaN             NaN        NaN    NaN    NaN            NaN   \n",
       "2              NaN             NaN        NaN    NaN    NaN            NaN   \n",
       "3              NaN             NaN        NaN    NaN    NaN            NaN   \n",
       "4              NaN             NaN        NaN    NaN    NaN            NaN   \n",
       "...            ...             ...        ...    ...    ...            ...   \n",
       "7496           NaN             NaN        NaN    NaN    NaN            NaN   \n",
       "7497           NaN             NaN        NaN    NaN    NaN            NaN   \n",
       "7498           NaN             NaN        NaN    NaN    NaN            NaN   \n",
       "7499           NaN             NaN        NaN    NaN    NaN            NaN   \n",
       "7500           NaN             NaN        NaN    NaN    NaN            NaN   \n",
       "\n",
       "          15                 16               17       18         19  \n",
       "0     salmon  antioxydant juice  frozen smoothie  spinach  olive oil  \n",
       "1        NaN                NaN              NaN      NaN        NaN  \n",
       "2        NaN                NaN              NaN      NaN        NaN  \n",
       "3        NaN                NaN              NaN      NaN        NaN  \n",
       "4        NaN                NaN              NaN      NaN        NaN  \n",
       "...      ...                ...              ...      ...        ...  \n",
       "7496     NaN                NaN              NaN      NaN        NaN  \n",
       "7497     NaN                NaN              NaN      NaN        NaN  \n",
       "7498     NaN                NaN              NaN      NaN        NaN  \n",
       "7499     NaN                NaN              NaN      NaN        NaN  \n",
       "7500     NaN                NaN              NaN      NaN        NaN  \n",
       "\n",
       "[7501 rows x 20 columns]"
      ]
     },
     "execution_count": 2,
     "metadata": {},
     "output_type": "execute_result"
    }
   ],
   "source": [
    "store_data = pd.read_csv(\"Market_Basket_Optimisation.csv\", header=None)\n",
    "store_data"
   ]
  },
  {
   "cell_type": "markdown",
   "metadata": {
    "id": "6c0TxpHRcqMl"
   },
   "source": [
    "## Preprocessing on Data\n",
    "*  Here we need a data in form of list for Apriori Algorithm."
   ]
  },
  {
   "cell_type": "code",
   "execution_count": 3,
   "metadata": {
    "ExecuteTime": {
     "end_time": "2019-05-31T11:46:53.754118Z",
     "start_time": "2019-05-31T11:46:52.448022Z"
    },
    "executionInfo": {
     "elapsed": 639,
     "status": "ok",
     "timestamp": 1676051891597,
     "user": {
      "displayName": "Doaa Mahmoud",
      "userId": "01621656496421117477"
     },
     "user_tz": -120
    },
    "id": "DYjHJFwScqMm"
   },
   "outputs": [],
   "source": [
    "records = []\n",
    "for i in range(0, 7501):\n",
    "    records.append([str(store_data.values[i, j]) for j in range(0, 20)])"
   ]
  },
  {
   "cell_type": "markdown",
   "metadata": {},
   "source": [
    "## 📘 Step-by-Step Explanation of the comprehensie list\n",
    "\n",
    "**`records = []`**  \n",
    "Creates an empty list to store the final data.\n",
    "\n",
    "**`for i in range(0, len(store_data)):`**  \n",
    "Loops through each row in the DataFrame.  \n",
    "`len(store_data)` gives the total number of rows.\n",
    "\n",
    "**`store_data.values[i, j]`**  \n",
    "Accesses the raw value at row `i`, column `j`.  \n",
    "Note: `store_data.values` returns the entire DataFrame as a NumPy array.\n",
    "\n",
    "**`[str(store_data.values[i, j]) for j in range(0, 20)]`**  \n",
    "This inner list comprehension:  \n",
    "- Loops through the **first 20 columns** (`j` from 0 to 19)  \n",
    "- Converts each value to a string  \n",
    "- Collects all 20 string values into a list representing one row\n",
    "\n",
    "**`records.append(...)`**  "
   ]
  },
  {
   "cell_type": "code",
   "execution_count": 4,
   "metadata": {
    "ExecuteTime": {
     "end_time": "2019-05-31T11:46:53.759119Z",
     "start_time": "2019-05-31T11:46:53.756117Z"
    },
    "colab": {
     "base_uri": "https://localhost:8080/"
    },
    "executionInfo": {
     "elapsed": 4,
     "status": "ok",
     "timestamp": 1676051892165,
     "user": {
      "displayName": "Doaa Mahmoud",
      "userId": "01621656496421117477"
     },
     "user_tz": -120
    },
    "id": "tVHmdG_rcqMn",
    "outputId": "b9999c9d-9957-4a4d-f4ec-ecaf3cf366de"
   },
   "outputs": [
    {
     "data": {
      "text/plain": [
       "7501"
      ]
     },
     "execution_count": 4,
     "metadata": {},
     "output_type": "execute_result"
    }
   ],
   "source": [
    "len(records)"
   ]
  },
  {
   "cell_type": "code",
   "execution_count": 5,
   "metadata": {
    "colab": {
     "base_uri": "https://localhost:8080/"
    },
    "executionInfo": {
     "elapsed": 4,
     "status": "ok",
     "timestamp": 1676051892944,
     "user": {
      "displayName": "Doaa Mahmoud",
      "userId": "01621656496421117477"
     },
     "user_tz": -120
    },
    "id": "2fAw91ICcqMo",
    "outputId": "1736fde7-e01f-403e-eebf-374895345c74",
    "scrolled": true
   },
   "outputs": [
    {
     "data": {
      "text/plain": [
       "['shrimp',\n",
       " 'almonds',\n",
       " 'avocado',\n",
       " 'vegetables mix',\n",
       " 'green grapes',\n",
       " 'whole weat flour',\n",
       " 'yams',\n",
       " 'cottage cheese',\n",
       " 'energy drink',\n",
       " 'tomato juice',\n",
       " 'low fat yogurt',\n",
       " 'green tea',\n",
       " 'honey',\n",
       " 'salad',\n",
       " 'mineral water',\n",
       " 'salmon',\n",
       " 'antioxydant juice',\n",
       " 'frozen smoothie',\n",
       " 'spinach',\n",
       " 'olive oil']"
      ]
     },
     "execution_count": 5,
     "metadata": {},
     "output_type": "execute_result"
    }
   ],
   "source": [
    "records[0]"
   ]
  },
  {
   "cell_type": "code",
   "execution_count": 6,
   "metadata": {
    "colab": {
     "base_uri": "https://localhost:8080/"
    },
    "executionInfo": {
     "elapsed": 318,
     "status": "ok",
     "timestamp": 1676051896216,
     "user": {
      "displayName": "Doaa Mahmoud",
      "userId": "01621656496421117477"
     },
     "user_tz": -120
    },
    "id": "YfcO23MJcqMp",
    "outputId": "a4779482-b531-4b4a-c99a-2b7a5e07ae86"
   },
   "outputs": [
    {
     "data": {
      "text/plain": [
       "['turkey',\n",
       " 'avocado',\n",
       " 'nan',\n",
       " 'nan',\n",
       " 'nan',\n",
       " 'nan',\n",
       " 'nan',\n",
       " 'nan',\n",
       " 'nan',\n",
       " 'nan',\n",
       " 'nan',\n",
       " 'nan',\n",
       " 'nan',\n",
       " 'nan',\n",
       " 'nan',\n",
       " 'nan',\n",
       " 'nan',\n",
       " 'nan',\n",
       " 'nan',\n",
       " 'nan']"
      ]
     },
     "execution_count": 6,
     "metadata": {},
     "output_type": "execute_result"
    }
   ],
   "source": [
    "records[3]"
   ]
  },
  {
   "cell_type": "code",
   "execution_count": 7,
   "metadata": {
    "colab": {
     "base_uri": "https://localhost:8080/"
    },
    "executionInfo": {
     "elapsed": 6,
     "status": "ok",
     "timestamp": 1676051896947,
     "user": {
      "displayName": "Doaa Mahmoud",
      "userId": "01621656496421117477"
     },
     "user_tz": -120
    },
    "id": "qV30SGINcqMp",
    "outputId": "52432b34-b387-4171-ce7d-0cbc745371f8"
   },
   "outputs": [
    {
     "name": "stdout",
     "output_type": "stream",
     "text": [
      "['burgers', 'meatballs', 'eggs', 'nan', 'nan', 'nan', 'nan', 'nan', 'nan', 'nan', 'nan', 'nan', 'nan', 'nan', 'nan', 'nan', 'nan', 'nan', 'nan', 'nan']\n",
      "['mineral water', 'barbecue sauce', 'chocolate', 'nan', 'nan', 'nan', 'nan', 'nan', 'nan', 'nan', 'nan', 'nan', 'nan', 'nan', 'nan', 'nan', 'nan', 'nan', 'nan', 'nan']\n",
      "['green tea', 'nan', 'nan', 'nan', 'nan', 'nan', 'nan', 'nan', 'nan', 'nan', 'nan', 'nan', 'nan', 'nan', 'nan', 'nan', 'nan', 'nan', 'nan', 'nan']\n"
     ]
    }
   ],
   "source": [
    "print (records[1])\n",
    "print (records[100])\n",
    "print (records[200])\n"
   ]
  },
  {
   "cell_type": "code",
   "execution_count": null,
   "metadata": {
    "colab": {
     "base_uri": "https://localhost:8080/"
    },
    "executionInfo": {
     "elapsed": 2,
     "status": "ok",
     "timestamp": 1676051897872,
     "user": {
      "displayName": "Doaa Mahmoud",
      "userId": "01621656496421117477"
     },
     "user_tz": -120
    },
    "id": "ynU5VDeIcqMq",
    "outputId": "0cb0a4fc-a866-4bec-a1fe-ad8465bc5402"
   },
   "outputs": [],
   "source": [
    "records[50]"
   ]
  },
  {
   "cell_type": "markdown",
   "metadata": {
    "id": "X8rraODgcqMr"
   },
   "source": [
    "## Apriori Algorithm\n",
    "\n",
    "* Now time to apply algorithm on data.\n",
    "* We have provide `min_support`, `min_confidence`, `min_lift`, and `min length` of sample-set for find rule.\n",
    "\n",
    "#### Measure 1: Support.\n",
    "This says how popular an itemset is, as measured by the proportion of transactions in which an itemset appears. In Table 1 below, the support of {apple} is 4 out of 8, or 50%. Itemsets can also contain multiple items. For instance, the support of {apple, beer, rice} is 2 out of 8, or 25%.\n",
    "\n",
    "![](https://annalyzin.files.wordpress.com/2016/04/association-rule-support-table.png?w=503&h=447)\n",
    "\n",
    "If you discover that sales of items beyond a certain proportion tend to have a significant impact on your profits, you might consider using that proportion as your support threshold. You may then identify itemsets with support values above this threshold as significant itemsets.\n",
    "\n",
    "#### Measure 2: Confidence. \n",
    "This says how likely item Y is purchased when item X is purchased, expressed as {X -> Y}. This is measured by the proportion of transactions with item X, in which item Y also appears. In Table 1, the confidence of {apple -> beer} is 3 out of 4, or 75%.\n",
    "\n",
    "![](https://annalyzin.files.wordpress.com/2016/03/association-rule-confidence-eqn.png?w=527&h=77)\n",
    "\n",
    "One drawback of the confidence measure is that it might misrepresent the importance of an association. This is because it only accounts for how popular apples are, but not beers. If beers are also very popular in general, there will be a higher chance that a transaction containing apples will also contain beers, thus inflating the confidence measure. To account for the base popularity of both constituent items, we use a third measure called lift.\n",
    "\n",
    "#### Measure 3: Lift. \n",
    "This says how likely item Y is purchased when item X is purchased, while controlling for how popular item Y is. In Table 1, the lift of {apple -> beer} is 1,which implies no association between items. A lift value greater than 1 means that item Y is likely to be bought if item X is bought, while a value less than 1 means that item Y is unlikely to be bought if item X is bought.\n",
    "![](https://annalyzin.files.wordpress.com/2016/03/association-rule-lift-eqn.png?w=566&h=80)"
   ]
  },
  {
   "cell_type": "code",
   "execution_count": 8,
   "metadata": {
    "executionInfo": {
     "elapsed": 278,
     "status": "ok",
     "timestamp": 1676051904094,
     "user": {
      "displayName": "Doaa Mahmoud",
      "userId": "01621656496421117477"
     },
     "user_tz": -120
    },
    "id": "VkviM9jgcqMs"
   },
   "outputs": [],
   "source": [
    "from apyori import apriori"
   ]
  },
  {
   "cell_type": "code",
   "execution_count": 30,
   "metadata": {
    "executionInfo": {
     "elapsed": 243,
     "status": "ok",
     "timestamp": 1676051910867,
     "user": {
      "displayName": "Doaa Mahmoud",
      "userId": "01621656496421117477"
     },
     "user_tz": -120
    },
    "id": "IPkBSIpdcqMt"
   },
   "outputs": [],
   "source": [
    "association_rules = apriori(records, min_support=0.045)\n",
    "association_results = list(association_rules)"
   ]
  },
  {
   "cell_type": "code",
   "execution_count": 31,
   "metadata": {
    "colab": {
     "base_uri": "https://localhost:8080/"
    },
    "executionInfo": {
     "elapsed": 3,
     "status": "ok",
     "timestamp": 1676051912014,
     "user": {
      "displayName": "Doaa Mahmoud",
      "userId": "01621656496421117477"
     },
     "user_tz": -120
    },
    "id": "u4qn1Vi6cqMt",
    "outputId": "6876e227-b334-48fe-eafa-e857efa55e35"
   },
   "outputs": [
    {
     "data": {
      "text/plain": [
       "[RelationRecord(items=frozenset({'burgers'}), support=0.0871883748833489, ordered_statistics=[OrderedStatistic(items_base=frozenset(), items_add=frozenset({'burgers'}), confidence=0.0871883748833489, lift=1.0)]),\n",
       " RelationRecord(items=frozenset({'cake'}), support=0.08105585921877083, ordered_statistics=[OrderedStatistic(items_base=frozenset(), items_add=frozenset({'cake'}), confidence=0.08105585921877083, lift=1.0)]),\n",
       " RelationRecord(items=frozenset({'champagne'}), support=0.04679376083188908, ordered_statistics=[OrderedStatistic(items_base=frozenset(), items_add=frozenset({'champagne'}), confidence=0.04679376083188908, lift=1.0)]),\n",
       " RelationRecord(items=frozenset({'chicken'}), support=0.05999200106652446, ordered_statistics=[OrderedStatistic(items_base=frozenset(), items_add=frozenset({'chicken'}), confidence=0.05999200106652446, lift=1.0)]),\n",
       " RelationRecord(items=frozenset({'chocolate'}), support=0.1638448206905746, ordered_statistics=[OrderedStatistic(items_base=frozenset(), items_add=frozenset({'chocolate'}), confidence=0.1638448206905746, lift=1.0)]),\n",
       " RelationRecord(items=frozenset({'cookies'}), support=0.08038928142914278, ordered_statistics=[OrderedStatistic(items_base=frozenset(), items_add=frozenset({'cookies'}), confidence=0.08038928142914278, lift=1.0)]),\n",
       " RelationRecord(items=frozenset({'cooking oil'}), support=0.0510598586855086, ordered_statistics=[OrderedStatistic(items_base=frozenset(), items_add=frozenset({'cooking oil'}), confidence=0.0510598586855086, lift=1.0)]),\n",
       " RelationRecord(items=frozenset({'eggs'}), support=0.17970937208372217, ordered_statistics=[OrderedStatistic(items_base=frozenset(), items_add=frozenset({'eggs'}), confidence=0.17970937208372217, lift=1.0)]),\n",
       " RelationRecord(items=frozenset({'escalope'}), support=0.0793227569657379, ordered_statistics=[OrderedStatistic(items_base=frozenset(), items_add=frozenset({'escalope'}), confidence=0.0793227569657379, lift=1.0)]),\n",
       " RelationRecord(items=frozenset({'french fries'}), support=0.1709105452606319, ordered_statistics=[OrderedStatistic(items_base=frozenset(), items_add=frozenset({'french fries'}), confidence=0.1709105452606319, lift=1.0)]),\n",
       " RelationRecord(items=frozenset({'frozen smoothie'}), support=0.06332489001466471, ordered_statistics=[OrderedStatistic(items_base=frozenset(), items_add=frozenset({'frozen smoothie'}), confidence=0.06332489001466471, lift=1.0)]),\n",
       " RelationRecord(items=frozenset({'frozen vegetables'}), support=0.09532062391681109, ordered_statistics=[OrderedStatistic(items_base=frozenset(), items_add=frozenset({'frozen vegetables'}), confidence=0.09532062391681109, lift=1.0)]),\n",
       " RelationRecord(items=frozenset({'grated cheese'}), support=0.0523930142647647, ordered_statistics=[OrderedStatistic(items_base=frozenset(), items_add=frozenset({'grated cheese'}), confidence=0.0523930142647647, lift=1.0)]),\n",
       " RelationRecord(items=frozenset({'green tea'}), support=0.13211571790427942, ordered_statistics=[OrderedStatistic(items_base=frozenset(), items_add=frozenset({'green tea'}), confidence=0.13211571790427942, lift=1.0)]),\n",
       " RelationRecord(items=frozenset({'ground beef'}), support=0.09825356619117451, ordered_statistics=[OrderedStatistic(items_base=frozenset(), items_add=frozenset({'ground beef'}), confidence=0.09825356619117451, lift=1.0)]),\n",
       " RelationRecord(items=frozenset({'herb & pepper'}), support=0.04946007199040128, ordered_statistics=[OrderedStatistic(items_base=frozenset(), items_add=frozenset({'herb & pepper'}), confidence=0.04946007199040128, lift=1.0)]),\n",
       " RelationRecord(items=frozenset({'honey'}), support=0.047460338621517134, ordered_statistics=[OrderedStatistic(items_base=frozenset(), items_add=frozenset({'honey'}), confidence=0.047460338621517134, lift=1.0)]),\n",
       " RelationRecord(items=frozenset({'low fat yogurt'}), support=0.07652313024930009, ordered_statistics=[OrderedStatistic(items_base=frozenset(), items_add=frozenset({'low fat yogurt'}), confidence=0.07652313024930009, lift=1.0)]),\n",
       " RelationRecord(items=frozenset({'milk'}), support=0.12958272230369283, ordered_statistics=[OrderedStatistic(items_base=frozenset(), items_add=frozenset({'milk'}), confidence=0.12958272230369283, lift=1.0)]),\n",
       " RelationRecord(items=frozenset({'mineral water'}), support=0.23836821757099053, ordered_statistics=[OrderedStatistic(items_base=frozenset(), items_add=frozenset({'mineral water'}), confidence=0.23836821757099053, lift=1.0)]),\n",
       " RelationRecord(items=frozenset({'nan'}), support=0.9998666844420744, ordered_statistics=[OrderedStatistic(items_base=frozenset(), items_add=frozenset({'nan'}), confidence=0.9998666844420744, lift=1.0)]),\n",
       " RelationRecord(items=frozenset({'olive oil'}), support=0.0658578856152513, ordered_statistics=[OrderedStatistic(items_base=frozenset(), items_add=frozenset({'olive oil'}), confidence=0.0658578856152513, lift=1.0)]),\n",
       " RelationRecord(items=frozenset({'pancakes'}), support=0.09505399280095987, ordered_statistics=[OrderedStatistic(items_base=frozenset(), items_add=frozenset({'pancakes'}), confidence=0.09505399280095987, lift=1.0)]),\n",
       " RelationRecord(items=frozenset({'shrimp'}), support=0.07145713904812692, ordered_statistics=[OrderedStatistic(items_base=frozenset(), items_add=frozenset({'shrimp'}), confidence=0.07145713904812692, lift=1.0)]),\n",
       " RelationRecord(items=frozenset({'soup'}), support=0.05052659645380616, ordered_statistics=[OrderedStatistic(items_base=frozenset(), items_add=frozenset({'soup'}), confidence=0.05052659645380616, lift=1.0)]),\n",
       " RelationRecord(items=frozenset({'spaghetti'}), support=0.17411011865084655, ordered_statistics=[OrderedStatistic(items_base=frozenset(), items_add=frozenset({'spaghetti'}), confidence=0.17411011865084655, lift=1.0)]),\n",
       " RelationRecord(items=frozenset({'tomatoes'}), support=0.06839088121583789, ordered_statistics=[OrderedStatistic(items_base=frozenset(), items_add=frozenset({'tomatoes'}), confidence=0.06839088121583789, lift=1.0)]),\n",
       " RelationRecord(items=frozenset({'turkey'}), support=0.06252499666711105, ordered_statistics=[OrderedStatistic(items_base=frozenset(), items_add=frozenset({'turkey'}), confidence=0.06252499666711105, lift=1.0)]),\n",
       " RelationRecord(items=frozenset({'whole wheat rice'}), support=0.058525529929342755, ordered_statistics=[OrderedStatistic(items_base=frozenset(), items_add=frozenset({'whole wheat rice'}), confidence=0.058525529929342755, lift=1.0)]),\n",
       " RelationRecord(items=frozenset({'nan', 'burgers'}), support=0.0871883748833489, ordered_statistics=[OrderedStatistic(items_base=frozenset(), items_add=frozenset({'burgers', 'nan'}), confidence=0.0871883748833489, lift=1.0), OrderedStatistic(items_base=frozenset({'burgers'}), items_add=frozenset({'nan'}), confidence=1.0, lift=1.0001333333333333), OrderedStatistic(items_base=frozenset({'nan'}), items_add=frozenset({'burgers'}), confidence=0.08720000000000001, lift=1.0001333333333333)]),\n",
       " RelationRecord(items=frozenset({'nan', 'cake'}), support=0.08105585921877083, ordered_statistics=[OrderedStatistic(items_base=frozenset(), items_add=frozenset({'nan', 'cake'}), confidence=0.08105585921877083, lift=1.0), OrderedStatistic(items_base=frozenset({'cake'}), items_add=frozenset({'nan'}), confidence=1.0, lift=1.0001333333333333), OrderedStatistic(items_base=frozenset({'nan'}), items_add=frozenset({'cake'}), confidence=0.08106666666666666, lift=1.0001333333333333)]),\n",
       " RelationRecord(items=frozenset({'champagne', 'nan'}), support=0.04679376083188908, ordered_statistics=[OrderedStatistic(items_base=frozenset(), items_add=frozenset({'champagne', 'nan'}), confidence=0.04679376083188908, lift=1.0), OrderedStatistic(items_base=frozenset({'champagne'}), items_add=frozenset({'nan'}), confidence=1.0, lift=1.0001333333333333), OrderedStatistic(items_base=frozenset({'nan'}), items_add=frozenset({'champagne'}), confidence=0.0468, lift=1.0001333333333333)]),\n",
       " RelationRecord(items=frozenset({'chicken', 'nan'}), support=0.05999200106652446, ordered_statistics=[OrderedStatistic(items_base=frozenset(), items_add=frozenset({'chicken', 'nan'}), confidence=0.05999200106652446, lift=1.0), OrderedStatistic(items_base=frozenset({'chicken'}), items_add=frozenset({'nan'}), confidence=1.0, lift=1.0001333333333333), OrderedStatistic(items_base=frozenset({'nan'}), items_add=frozenset({'chicken'}), confidence=0.06, lift=1.0001333333333333)]),\n",
       " RelationRecord(items=frozenset({'mineral water', 'chocolate'}), support=0.05265964538061592, ordered_statistics=[OrderedStatistic(items_base=frozenset(), items_add=frozenset({'mineral water', 'chocolate'}), confidence=0.05265964538061592, lift=1.0), OrderedStatistic(items_base=frozenset({'chocolate'}), items_add=frozenset({'mineral water'}), confidence=0.3213995117982099, lift=1.3483320682317521), OrderedStatistic(items_base=frozenset({'mineral water'}), items_add=frozenset({'chocolate'}), confidence=0.220917225950783, lift=1.348332068231752)]),\n",
       " RelationRecord(items=frozenset({'chocolate', 'nan'}), support=0.1638448206905746, ordered_statistics=[OrderedStatistic(items_base=frozenset(), items_add=frozenset({'chocolate', 'nan'}), confidence=0.1638448206905746, lift=1.0), OrderedStatistic(items_base=frozenset({'chocolate'}), items_add=frozenset({'nan'}), confidence=1.0, lift=1.0001333333333333), OrderedStatistic(items_base=frozenset({'nan'}), items_add=frozenset({'chocolate'}), confidence=0.1638666666666667, lift=1.0001333333333333)]),\n",
       " RelationRecord(items=frozenset({'nan', 'cookies'}), support=0.08038928142914278, ordered_statistics=[OrderedStatistic(items_base=frozenset(), items_add=frozenset({'nan', 'cookies'}), confidence=0.08038928142914278, lift=1.0), OrderedStatistic(items_base=frozenset({'cookies'}), items_add=frozenset({'nan'}), confidence=1.0, lift=1.0001333333333333), OrderedStatistic(items_base=frozenset({'nan'}), items_add=frozenset({'cookies'}), confidence=0.0804, lift=1.0001333333333333)]),\n",
       " RelationRecord(items=frozenset({'cooking oil', 'nan'}), support=0.0510598586855086, ordered_statistics=[OrderedStatistic(items_base=frozenset(), items_add=frozenset({'cooking oil', 'nan'}), confidence=0.0510598586855086, lift=1.0), OrderedStatistic(items_base=frozenset({'cooking oil'}), items_add=frozenset({'nan'}), confidence=1.0, lift=1.0001333333333333), OrderedStatistic(items_base=frozenset({'nan'}), items_add=frozenset({'cooking oil'}), confidence=0.05106666666666667, lift=1.0001333333333333)]),\n",
       " RelationRecord(items=frozenset({'mineral water', 'eggs'}), support=0.05092654312758299, ordered_statistics=[OrderedStatistic(items_base=frozenset(), items_add=frozenset({'mineral water', 'eggs'}), confidence=0.05092654312758299, lift=1.0), OrderedStatistic(items_base=frozenset({'eggs'}), items_add=frozenset({'mineral water'}), confidence=0.28338278931750743, lift=1.188844688294532), OrderedStatistic(items_base=frozenset({'mineral water'}), items_add=frozenset({'eggs'}), confidence=0.21364653243847875, lift=1.188844688294532)]),\n",
       " RelationRecord(items=frozenset({'nan', 'eggs'}), support=0.17970937208372217, ordered_statistics=[OrderedStatistic(items_base=frozenset(), items_add=frozenset({'eggs', 'nan'}), confidence=0.17970937208372217, lift=1.0), OrderedStatistic(items_base=frozenset({'eggs'}), items_add=frozenset({'nan'}), confidence=1.0, lift=1.0001333333333333), OrderedStatistic(items_base=frozenset({'nan'}), items_add=frozenset({'eggs'}), confidence=0.17973333333333333, lift=1.0001333333333333)]),\n",
       " RelationRecord(items=frozenset({'escalope', 'nan'}), support=0.0793227569657379, ordered_statistics=[OrderedStatistic(items_base=frozenset(), items_add=frozenset({'escalope', 'nan'}), confidence=0.0793227569657379, lift=1.0), OrderedStatistic(items_base=frozenset({'escalope'}), items_add=frozenset({'nan'}), confidence=1.0, lift=1.0001333333333333), OrderedStatistic(items_base=frozenset({'nan'}), items_add=frozenset({'escalope'}), confidence=0.07933333333333334, lift=1.0001333333333333)]),\n",
       " RelationRecord(items=frozenset({'french fries', 'nan'}), support=0.1709105452606319, ordered_statistics=[OrderedStatistic(items_base=frozenset(), items_add=frozenset({'french fries', 'nan'}), confidence=0.1709105452606319, lift=1.0), OrderedStatistic(items_base=frozenset({'french fries'}), items_add=frozenset({'nan'}), confidence=1.0, lift=1.0001333333333333), OrderedStatistic(items_base=frozenset({'nan'}), items_add=frozenset({'french fries'}), confidence=0.17093333333333333, lift=1.0001333333333333)]),\n",
       " RelationRecord(items=frozenset({'frozen smoothie', 'nan'}), support=0.0631915744567391, ordered_statistics=[OrderedStatistic(items_base=frozenset(), items_add=frozenset({'frozen smoothie', 'nan'}), confidence=0.0631915744567391, lift=1.0), OrderedStatistic(items_base=frozenset({'frozen smoothie'}), items_add=frozenset({'nan'}), confidence=0.9978947368421054, lift=0.9980277894736843), OrderedStatistic(items_base=frozenset({'nan'}), items_add=frozenset({'frozen smoothie'}), confidence=0.0632, lift=0.9980277894736843)]),\n",
       " RelationRecord(items=frozenset({'nan', 'frozen vegetables'}), support=0.09532062391681109, ordered_statistics=[OrderedStatistic(items_base=frozenset(), items_add=frozenset({'frozen vegetables', 'nan'}), confidence=0.09532062391681109, lift=1.0), OrderedStatistic(items_base=frozenset({'frozen vegetables'}), items_add=frozenset({'nan'}), confidence=1.0, lift=1.0001333333333333), OrderedStatistic(items_base=frozenset({'nan'}), items_add=frozenset({'frozen vegetables'}), confidence=0.09533333333333334, lift=1.0001333333333333)]),\n",
       " RelationRecord(items=frozenset({'nan', 'grated cheese'}), support=0.0523930142647647, ordered_statistics=[OrderedStatistic(items_base=frozenset(), items_add=frozenset({'nan', 'grated cheese'}), confidence=0.0523930142647647, lift=1.0), OrderedStatistic(items_base=frozenset({'grated cheese'}), items_add=frozenset({'nan'}), confidence=1.0, lift=1.0001333333333333), OrderedStatistic(items_base=frozenset({'nan'}), items_add=frozenset({'grated cheese'}), confidence=0.0524, lift=1.0001333333333333)]),\n",
       " RelationRecord(items=frozenset({'green tea', 'nan'}), support=0.13198240234635383, ordered_statistics=[OrderedStatistic(items_base=frozenset(), items_add=frozenset({'green tea', 'nan'}), confidence=0.13198240234635383, lift=1.0), OrderedStatistic(items_base=frozenset({'green tea'}), items_add=frozenset({'nan'}), confidence=0.9989909182643796, lift=0.9991241170534815), OrderedStatistic(items_base=frozenset({'nan'}), items_add=frozenset({'green tea'}), confidence=0.132, lift=0.9991241170534815)]),\n",
       " RelationRecord(items=frozenset({'ground beef', 'nan'}), support=0.09825356619117451, ordered_statistics=[OrderedStatistic(items_base=frozenset(), items_add=frozenset({'ground beef', 'nan'}), confidence=0.09825356619117451, lift=1.0), OrderedStatistic(items_base=frozenset({'ground beef'}), items_add=frozenset({'nan'}), confidence=1.0, lift=1.0001333333333333), OrderedStatistic(items_base=frozenset({'nan'}), items_add=frozenset({'ground beef'}), confidence=0.09826666666666667, lift=1.0001333333333333)]),\n",
       " RelationRecord(items=frozenset({'nan', 'herb & pepper'}), support=0.04946007199040128, ordered_statistics=[OrderedStatistic(items_base=frozenset(), items_add=frozenset({'herb & pepper', 'nan'}), confidence=0.04946007199040128, lift=1.0), OrderedStatistic(items_base=frozenset({'herb & pepper'}), items_add=frozenset({'nan'}), confidence=1.0, lift=1.0001333333333333), OrderedStatistic(items_base=frozenset({'nan'}), items_add=frozenset({'herb & pepper'}), confidence=0.04946666666666667, lift=1.0001333333333333)]),\n",
       " RelationRecord(items=frozenset({'honey', 'nan'}), support=0.047327023063591524, ordered_statistics=[OrderedStatistic(items_base=frozenset(), items_add=frozenset({'honey', 'nan'}), confidence=0.047327023063591524, lift=1.0), OrderedStatistic(items_base=frozenset({'honey'}), items_add=frozenset({'nan'}), confidence=0.997191011235955, lift=0.9973239700374531), OrderedStatistic(items_base=frozenset({'nan'}), items_add=frozenset({'honey'}), confidence=0.04733333333333334, lift=0.9973239700374532)]),\n",
       " RelationRecord(items=frozenset({'low fat yogurt', 'nan'}), support=0.07638981469137449, ordered_statistics=[OrderedStatistic(items_base=frozenset(), items_add=frozenset({'low fat yogurt', 'nan'}), confidence=0.07638981469137449, lift=1.0), OrderedStatistic(items_base=frozenset({'low fat yogurt'}), items_add=frozenset({'nan'}), confidence=0.9982578397212545, lift=0.9983909407665507), OrderedStatistic(items_base=frozenset({'nan'}), items_add=frozenset({'low fat yogurt'}), confidence=0.07640000000000001, lift=0.9983909407665507)]),\n",
       " RelationRecord(items=frozenset({'mineral water', 'milk'}), support=0.04799360085321957, ordered_statistics=[OrderedStatistic(items_base=frozenset(), items_add=frozenset({'mineral water', 'milk'}), confidence=0.04799360085321957, lift=1.0), OrderedStatistic(items_base=frozenset({'milk'}), items_add=frozenset({'mineral water'}), confidence=0.3703703703703704, lift=1.5537741320739085), OrderedStatistic(items_base=frozenset({'mineral water'}), items_add=frozenset({'milk'}), confidence=0.20134228187919462, lift=1.5537741320739085)]),\n",
       " RelationRecord(items=frozenset({'nan', 'milk'}), support=0.12958272230369283, ordered_statistics=[OrderedStatistic(items_base=frozenset(), items_add=frozenset({'nan', 'milk'}), confidence=0.12958272230369283, lift=1.0), OrderedStatistic(items_base=frozenset({'milk'}), items_add=frozenset({'nan'}), confidence=1.0, lift=1.0001333333333333), OrderedStatistic(items_base=frozenset({'nan'}), items_add=frozenset({'milk'}), confidence=0.1296, lift=1.0001333333333333)]),\n",
       " RelationRecord(items=frozenset({'mineral water', 'nan'}), support=0.23823490201306494, ordered_statistics=[OrderedStatistic(items_base=frozenset(), items_add=frozenset({'mineral water', 'nan'}), confidence=0.23823490201306494, lift=1.0), OrderedStatistic(items_base=frozenset({'mineral water'}), items_add=frozenset({'nan'}), confidence=0.999440715883669, lift=0.9995739746457868), OrderedStatistic(items_base=frozenset({'nan'}), items_add=frozenset({'mineral water'}), confidence=0.23826666666666668, lift=0.9995739746457868)]),\n",
       " RelationRecord(items=frozenset({'mineral water', 'spaghetti'}), support=0.05972536995067324, ordered_statistics=[OrderedStatistic(items_base=frozenset(), items_add=frozenset({'mineral water', 'spaghetti'}), confidence=0.05972536995067324, lift=1.0), OrderedStatistic(items_base=frozenset({'mineral water'}), items_add=frozenset({'spaghetti'}), confidence=0.2505592841163311, lift=1.4390851379453289), OrderedStatistic(items_base=frozenset({'spaghetti'}), items_add=frozenset({'mineral water'}), confidence=0.3430321592649311, lift=1.4390851379453289)]),\n",
       " RelationRecord(items=frozenset({'nan', 'olive oil'}), support=0.0657245700573257, ordered_statistics=[OrderedStatistic(items_base=frozenset(), items_add=frozenset({'nan', 'olive oil'}), confidence=0.0657245700573257, lift=1.0), OrderedStatistic(items_base=frozenset({'nan'}), items_add=frozenset({'olive oil'}), confidence=0.06573333333333334, lift=0.9981087719298246), OrderedStatistic(items_base=frozenset({'olive oil'}), items_add=frozenset({'nan'}), confidence=0.9979757085020244, lift=0.9981087719298247)]),\n",
       " RelationRecord(items=frozenset({'pancakes', 'nan'}), support=0.09505399280095987, ordered_statistics=[OrderedStatistic(items_base=frozenset(), items_add=frozenset({'pancakes', 'nan'}), confidence=0.09505399280095987, lift=1.0), OrderedStatistic(items_base=frozenset({'nan'}), items_add=frozenset({'pancakes'}), confidence=0.09506666666666666, lift=1.0001333333333333), OrderedStatistic(items_base=frozenset({'pancakes'}), items_add=frozenset({'nan'}), confidence=1.0, lift=1.0001333333333333)]),\n",
       " RelationRecord(items=frozenset({'shrimp', 'nan'}), support=0.0713238234902013, ordered_statistics=[OrderedStatistic(items_base=frozenset(), items_add=frozenset({'shrimp', 'nan'}), confidence=0.0713238234902013, lift=1.0), OrderedStatistic(items_base=frozenset({'nan'}), items_add=frozenset({'shrimp'}), confidence=0.07133333333333333, lift=0.9982674129353233), OrderedStatistic(items_base=frozenset({'shrimp'}), items_add=frozenset({'nan'}), confidence=0.9981343283582088, lift=0.9982674129353233)]),\n",
       " RelationRecord(items=frozenset({'soup', 'nan'}), support=0.05052659645380616, ordered_statistics=[OrderedStatistic(items_base=frozenset(), items_add=frozenset({'soup', 'nan'}), confidence=0.05052659645380616, lift=1.0), OrderedStatistic(items_base=frozenset({'nan'}), items_add=frozenset({'soup'}), confidence=0.05053333333333333, lift=1.0001333333333333), OrderedStatistic(items_base=frozenset({'soup'}), items_add=frozenset({'nan'}), confidence=1.0, lift=1.0001333333333333)]),\n",
       " RelationRecord(items=frozenset({'spaghetti', 'nan'}), support=0.17411011865084655, ordered_statistics=[OrderedStatistic(items_base=frozenset(), items_add=frozenset({'spaghetti', 'nan'}), confidence=0.17411011865084655, lift=1.0), OrderedStatistic(items_base=frozenset({'nan'}), items_add=frozenset({'spaghetti'}), confidence=0.17413333333333333, lift=1.0001333333333333), OrderedStatistic(items_base=frozenset({'spaghetti'}), items_add=frozenset({'nan'}), confidence=1.0, lift=1.0001333333333333)]),\n",
       " RelationRecord(items=frozenset({'nan', 'tomatoes'}), support=0.06839088121583789, ordered_statistics=[OrderedStatistic(items_base=frozenset(), items_add=frozenset({'nan', 'tomatoes'}), confidence=0.06839088121583789, lift=1.0), OrderedStatistic(items_base=frozenset({'nan'}), items_add=frozenset({'tomatoes'}), confidence=0.0684, lift=1.0001333333333333), OrderedStatistic(items_base=frozenset({'tomatoes'}), items_add=frozenset({'nan'}), confidence=1.0, lift=1.0001333333333333)]),\n",
       " RelationRecord(items=frozenset({'nan', 'turkey'}), support=0.06252499666711105, ordered_statistics=[OrderedStatistic(items_base=frozenset(), items_add=frozenset({'nan', 'turkey'}), confidence=0.06252499666711105, lift=1.0), OrderedStatistic(items_base=frozenset({'nan'}), items_add=frozenset({'turkey'}), confidence=0.06253333333333333, lift=1.0001333333333333), OrderedStatistic(items_base=frozenset({'turkey'}), items_add=frozenset({'nan'}), confidence=1.0, lift=1.0001333333333333)]),\n",
       " RelationRecord(items=frozenset({'nan', 'whole wheat rice'}), support=0.058525529929342755, ordered_statistics=[OrderedStatistic(items_base=frozenset(), items_add=frozenset({'nan', 'whole wheat rice'}), confidence=0.058525529929342755, lift=1.0), OrderedStatistic(items_base=frozenset({'nan'}), items_add=frozenset({'whole wheat rice'}), confidence=0.05853333333333333, lift=1.0001333333333333), OrderedStatistic(items_base=frozenset({'whole wheat rice'}), items_add=frozenset({'nan'}), confidence=1.0, lift=1.0001333333333333)]),\n",
       " RelationRecord(items=frozenset({'mineral water', 'chocolate', 'nan'}), support=0.05265964538061592, ordered_statistics=[OrderedStatistic(items_base=frozenset(), items_add=frozenset({'mineral water', 'chocolate', 'nan'}), confidence=0.05265964538061592, lift=1.0), OrderedStatistic(items_base=frozenset({'chocolate'}), items_add=frozenset({'mineral water', 'nan'}), confidence=0.3213995117982099, lift=1.3490865909336163), OrderedStatistic(items_base=frozenset({'mineral water'}), items_add=frozenset({'chocolate', 'nan'}), confidence=0.220917225950783, lift=1.348332068231752), OrderedStatistic(items_base=frozenset({'nan'}), items_add=frozenset({'mineral water', 'chocolate'}), confidence=0.05266666666666667, lift=1.0001333333333333), OrderedStatistic(items_base=frozenset({'mineral water', 'chocolate'}), items_add=frozenset({'nan'}), confidence=1.0, lift=1.0001333333333333), OrderedStatistic(items_base=frozenset({'chocolate', 'nan'}), items_add=frozenset({'mineral water'}), confidence=0.3213995117982099, lift=1.3483320682317521), OrderedStatistic(items_base=frozenset({'mineral water', 'nan'}), items_add=frozenset({'chocolate'}), confidence=0.22104085058757694, lift=1.3490865909336165)]),\n",
       " RelationRecord(items=frozenset({'nan', 'mineral water', 'eggs'}), support=0.05092654312758299, ordered_statistics=[OrderedStatistic(items_base=frozenset(), items_add=frozenset({'mineral water', 'nan', 'eggs'}), confidence=0.05092654312758299, lift=1.0), OrderedStatistic(items_base=frozenset({'eggs'}), items_add=frozenset({'mineral water', 'nan'}), confidence=0.28338278931750743, lift=1.1895099623226766), OrderedStatistic(items_base=frozenset({'mineral water'}), items_add=frozenset({'eggs', 'nan'}), confidence=0.21364653243847875, lift=1.188844688294532), OrderedStatistic(items_base=frozenset({'nan'}), items_add=frozenset({'mineral water', 'eggs'}), confidence=0.05093333333333334, lift=1.0001333333333333), OrderedStatistic(items_base=frozenset({'mineral water', 'eggs'}), items_add=frozenset({'nan'}), confidence=1.0, lift=1.0001333333333333), OrderedStatistic(items_base=frozenset({'nan', 'eggs'}), items_add=frozenset({'mineral water'}), confidence=0.28338278931750743, lift=1.188844688294532), OrderedStatistic(items_base=frozenset({'mineral water', 'nan'}), items_add=frozenset({'eggs'}), confidence=0.21376608841634023, lift=1.1895099623226766)]),\n",
       " RelationRecord(items=frozenset({'mineral water', 'nan', 'milk'}), support=0.04799360085321957, ordered_statistics=[OrderedStatistic(items_base=frozenset(), items_add=frozenset({'mineral water', 'nan', 'milk'}), confidence=0.04799360085321957, lift=1.0), OrderedStatistic(items_base=frozenset({'milk'}), items_add=frozenset({'mineral water', 'nan'}), confidence=0.3703703703703704, lift=1.554643619556882), OrderedStatistic(items_base=frozenset({'mineral water'}), items_add=frozenset({'nan', 'milk'}), confidence=0.20134228187919462, lift=1.5537741320739085), OrderedStatistic(items_base=frozenset({'nan'}), items_add=frozenset({'mineral water', 'milk'}), confidence=0.048, lift=1.0001333333333333), OrderedStatistic(items_base=frozenset({'mineral water', 'milk'}), items_add=frozenset({'nan'}), confidence=1.0, lift=1.0001333333333333), OrderedStatistic(items_base=frozenset({'nan', 'milk'}), items_add=frozenset({'mineral water'}), confidence=0.3703703703703704, lift=1.5537741320739085), OrderedStatistic(items_base=frozenset({'mineral water', 'nan'}), items_add=frozenset({'milk'}), confidence=0.20145495243424733, lift=1.554643619556882)]),\n",
       " RelationRecord(items=frozenset({'mineral water', 'spaghetti', 'nan'}), support=0.05972536995067324, ordered_statistics=[OrderedStatistic(items_base=frozenset(), items_add=frozenset({'mineral water', 'spaghetti', 'nan'}), confidence=0.05972536995067324, lift=1.0), OrderedStatistic(items_base=frozenset({'mineral water'}), items_add=frozenset({'spaghetti', 'nan'}), confidence=0.2505592841163311, lift=1.4390851379453289), OrderedStatistic(items_base=frozenset({'nan'}), items_add=frozenset({'mineral water', 'spaghetti'}), confidence=0.05973333333333333, lift=1.0001333333333333), OrderedStatistic(items_base=frozenset({'spaghetti'}), items_add=frozenset({'mineral water', 'nan'}), confidence=0.3430321592649311, lift=1.439890445800922), OrderedStatistic(items_base=frozenset({'mineral water', 'nan'}), items_add=frozenset({'spaghetti'}), confidence=0.2506994963626189, lift=1.4398904458009223), OrderedStatistic(items_base=frozenset({'mineral water', 'spaghetti'}), items_add=frozenset({'nan'}), confidence=1.0, lift=1.0001333333333333), OrderedStatistic(items_base=frozenset({'spaghetti', 'nan'}), items_add=frozenset({'mineral water'}), confidence=0.3430321592649311, lift=1.4390851379453289)])]"
      ]
     },
     "execution_count": 31,
     "metadata": {},
     "output_type": "execute_result"
    }
   ],
   "source": [
    "association_results"
   ]
  },
  {
   "cell_type": "code",
   "execution_count": 32,
   "metadata": {
    "colab": {
     "base_uri": "https://localhost:8080/"
    },
    "executionInfo": {
     "elapsed": 312,
     "status": "ok",
     "timestamp": 1676051915374,
     "user": {
      "displayName": "Doaa Mahmoud",
      "userId": "01621656496421117477"
     },
     "user_tz": -120
    },
    "id": "UVWe2jEpcqMu",
    "outputId": "785e0c25-aa6f-479e-e485-bd1caf87b113"
   },
   "outputs": [
    {
     "data": {
      "text/plain": [
       "65"
      ]
     },
     "execution_count": 32,
     "metadata": {},
     "output_type": "execute_result"
    }
   ],
   "source": [
    "len(association_results)"
   ]
  },
  {
   "cell_type": "code",
   "execution_count": 18,
   "metadata": {
    "colab": {
     "base_uri": "https://localhost:8080/"
    },
    "executionInfo": {
     "elapsed": 266,
     "status": "ok",
     "timestamp": 1676051927640,
     "user": {
      "displayName": "Doaa Mahmoud",
      "userId": "01621656496421117477"
     },
     "user_tz": -120
    },
    "id": "b1Xd_shbcqMu",
    "outputId": "6910c370-d4ea-4f4e-fc0d-c86906b78e8a"
   },
   "outputs": [
    {
     "data": {
      "text/plain": [
       "RelationRecord(items=frozenset({'burgers'}), support=0.0871883748833489, ordered_statistics=[OrderedStatistic(items_base=frozenset(), items_add=frozenset({'burgers'}), confidence=0.0871883748833489, lift=1.0)])"
      ]
     },
     "execution_count": 18,
     "metadata": {},
     "output_type": "execute_result"
    }
   ],
   "source": [
    "association_results[0]"
   ]
  },
  {
   "cell_type": "code",
   "execution_count": 19,
   "metadata": {
    "ExecuteTime": {
     "end_time": "2019-05-31T11:47:42.407141Z",
     "start_time": "2019-05-31T11:47:40.566100Z"
    },
    "executionInfo": {
     "elapsed": 2207,
     "status": "ok",
     "timestamp": 1676051931073,
     "user": {
      "displayName": "Doaa Mahmoud",
      "userId": "01621656496421117477"
     },
     "user_tz": -120
    },
    "id": "cboiPUJScqMv"
   },
   "outputs": [],
   "source": [
    "association_rules = apriori(records, min_support=0.0045, min_confidence=0.2, min_lift=3, min_length=2)\n",
    "association_results = list(association_rules)"
   ]
  },
  {
   "cell_type": "markdown",
   "metadata": {
    "id": "007Awvf_cqMv"
   },
   "source": [
    "## How many relation derived"
   ]
  },
  {
   "cell_type": "code",
   "execution_count": 20,
   "metadata": {
    "ExecuteTime": {
     "end_time": "2019-05-31T11:46:55.776118Z",
     "start_time": "2019-05-31T11:46:55.770118Z"
    },
    "colab": {
     "base_uri": "https://localhost:8080/"
    },
    "executionInfo": {
     "elapsed": 277,
     "status": "ok",
     "timestamp": 1676051938041,
     "user": {
      "displayName": "Doaa Mahmoud",
      "userId": "01621656496421117477"
     },
     "user_tz": -120
    },
    "id": "KNH_osggcqMv",
    "outputId": "baba2c94-08ae-4e00-b614-851882b7445c"
   },
   "outputs": [
    {
     "data": {
      "text/plain": [
       "48"
      ]
     },
     "execution_count": 20,
     "metadata": {},
     "output_type": "execute_result"
    }
   ],
   "source": [
    "len(association_results)"
   ]
  },
  {
   "cell_type": "markdown",
   "metadata": {
    "id": "ejBq-P2WcqMw"
   },
   "source": [
    "### Association Rules Derived"
   ]
  },
  {
   "cell_type": "code",
   "execution_count": 21,
   "metadata": {
    "colab": {
     "base_uri": "https://localhost:8080/"
    },
    "executionInfo": {
     "elapsed": 3,
     "status": "ok",
     "timestamp": 1676051939246,
     "user": {
      "displayName": "Doaa Mahmoud",
      "userId": "01621656496421117477"
     },
     "user_tz": -120
    },
    "id": "V2D8F4dLcqMw",
    "outputId": "d683ba2e-f912-48c6-a5b0-9f718536004a"
   },
   "outputs": [
    {
     "data": {
      "text/plain": [
       "RelationRecord(items=frozenset({'chicken', 'light cream'}), support=0.004532728969470737, ordered_statistics=[OrderedStatistic(items_base=frozenset({'light cream'}), items_add=frozenset({'chicken'}), confidence=0.29059829059829057, lift=4.84395061728395)])"
      ]
     },
     "execution_count": 21,
     "metadata": {},
     "output_type": "execute_result"
    }
   ],
   "source": [
    "association_results[0]"
   ]
  },
  {
   "cell_type": "code",
   "execution_count": 22,
   "metadata": {
    "ExecuteTime": {
     "end_time": "2019-05-31T11:46:55.873119Z",
     "start_time": "2019-05-31T11:46:55.778119Z"
    },
    "code_folding": [],
    "colab": {
     "base_uri": "https://localhost:8080/"
    },
    "executionInfo": {
     "elapsed": 363,
     "status": "ok",
     "timestamp": 1676051945601,
     "user": {
      "displayName": "Doaa Mahmoud",
      "userId": "01621656496421117477"
     },
     "user_tz": -120
    },
    "id": "WqdScVi2cqMw",
    "outputId": "56c1d471-8a6a-4287-f38f-beb8ac6e33f3"
   },
   "outputs": [
    {
     "name": "stdout",
     "output_type": "stream",
     "text": [
      "frozenset({'chicken', 'light cream'}) ---------> 0.29059829059829057\n",
      "frozenset({'mushroom cream sauce', 'escalope'}) ---------> 0.3006993006993007\n",
      "frozenset({'escalope', 'pasta'}) ---------> 0.3728813559322034\n",
      "frozenset({'ground beef', 'herb & pepper'}) ---------> 0.3234501347708895\n",
      "frozenset({'ground beef', 'tomato sauce'}) ---------> 0.3773584905660377\n",
      "frozenset({'olive oil', 'whole wheat pasta'}) ---------> 0.2714932126696833\n",
      "frozenset({'shrimp', 'pasta'}) ---------> 0.3220338983050847\n",
      "frozenset({'nan', 'chicken', 'light cream'}) ---------> 0.29059829059829057\n",
      "frozenset({'chocolate', 'frozen vegetables', 'shrimp'}) ---------> 0.23255813953488375\n",
      "frozenset({'ground beef', 'spaghetti', 'cooking oil'}) ---------> 0.5714285714285714\n",
      "frozenset({'mushroom cream sauce', 'escalope', 'nan'}) ---------> 0.3006993006993007\n",
      "frozenset({'pasta', 'escalope', 'nan'}) ---------> 0.3728813559322034\n",
      "frozenset({'ground beef', 'spaghetti', 'frozen vegetables'}) ---------> 0.31100478468899523\n",
      "frozenset({'frozen vegetables', 'olive oil', 'milk'}) ---------> 0.20338983050847456\n",
      "frozenset({'mineral water', 'shrimp', 'frozen vegetables'}) ---------> 0.30508474576271183\n",
      "frozenset({'spaghetti', 'frozen vegetables', 'olive oil'}) ---------> 0.20574162679425836\n",
      "frozenset({'spaghetti', 'shrimp', 'frozen vegetables'}) ---------> 0.21531100478468898\n",
      "frozenset({'spaghetti', 'frozen vegetables', 'tomatoes'}) ---------> 0.23923444976076558\n",
      "frozenset({'ground beef', 'spaghetti', 'grated cheese'}) ---------> 0.3225806451612903\n",
      "frozenset({'ground beef', 'mineral water', 'herb & pepper'}) ---------> 0.39062500000000006\n",
      "frozenset({'nan', 'ground beef', 'herb & pepper'}) ---------> 0.3234501347708895\n",
      "frozenset({'ground beef', 'spaghetti', 'herb & pepper'}) ---------> 0.3934426229508197\n",
      "frozenset({'ground beef', 'olive oil', 'milk'}) ---------> 0.22424242424242427\n",
      "frozenset({'ground beef', 'nan', 'tomato sauce'}) ---------> 0.3773584905660377\n",
      "frozenset({'ground beef', 'spaghetti', 'shrimp'}) ---------> 0.5232558139534884\n",
      "frozenset({'spaghetti', 'olive oil', 'milk'}) ---------> 0.20300751879699247\n",
      "frozenset({'soup', 'mineral water', 'olive oil'}) ---------> 0.22543352601156072\n",
      "frozenset({'nan', 'olive oil', 'whole wheat pasta'}) ---------> 0.2714932126696833\n",
      "frozenset({'shrimp', 'pasta', 'nan'}) ---------> 0.3220338983050847\n",
      "frozenset({'pancakes', 'spaghetti', 'olive oil'}) ---------> 0.20105820105820105\n",
      "frozenset({'nan', 'chocolate', 'frozen vegetables', 'shrimp'}) ---------> 0.23255813953488375\n",
      "frozenset({'ground beef', 'spaghetti', 'cooking oil', 'nan'}) ---------> 0.5714285714285714\n",
      "frozenset({'nan', 'ground beef', 'spaghetti', 'frozen vegetables'}) ---------> 0.31100478468899523\n",
      "frozenset({'mineral water', 'spaghetti', 'frozen vegetables', 'milk'}) ---------> 0.28813559322033894\n",
      "frozenset({'nan', 'frozen vegetables', 'olive oil', 'milk'}) ---------> 0.20338983050847456\n",
      "frozenset({'nan', 'mineral water', 'shrimp', 'frozen vegetables'}) ---------> 0.30508474576271183\n",
      "frozenset({'nan', 'spaghetti', 'frozen vegetables', 'olive oil'}) ---------> 0.20574162679425836\n",
      "frozenset({'nan', 'spaghetti', 'shrimp', 'frozen vegetables'}) ---------> 0.21531100478468898\n",
      "frozenset({'nan', 'spaghetti', 'frozen vegetables', 'tomatoes'}) ---------> 0.23923444976076558\n",
      "frozenset({'ground beef', 'spaghetti', 'nan', 'grated cheese'}) ---------> 0.3225806451612903\n",
      "frozenset({'nan', 'ground beef', 'mineral water', 'herb & pepper'}) ---------> 0.39062500000000006\n",
      "frozenset({'nan', 'ground beef', 'spaghetti', 'herb & pepper'}) ---------> 0.3934426229508197\n",
      "frozenset({'ground beef', 'nan', 'olive oil', 'milk'}) ---------> 0.22424242424242427\n",
      "frozenset({'ground beef', 'spaghetti', 'shrimp', 'nan'}) ---------> 0.5232558139534884\n",
      "frozenset({'spaghetti', 'nan', 'olive oil', 'milk'}) ---------> 0.20300751879699247\n",
      "frozenset({'soup', 'mineral water', 'nan', 'olive oil'}) ---------> 0.22543352601156072\n",
      "frozenset({'pancakes', 'spaghetti', 'nan', 'olive oil'}) ---------> 0.20105820105820105\n",
      "frozenset({'frozen vegetables', 'mineral water', 'nan', 'milk', 'spaghetti'}) ---------> 0.28813559322033894\n"
     ]
    }
   ],
   "source": [
    "for rule in association_results:\n",
    "    print(f'{rule[0]} ---------> {rule[2][0][2]}')"
   ]
  },
  {
   "cell_type": "markdown",
   "metadata": {
    "ExecuteTime": {
     "end_time": "2019-05-31T11:56:17.717346Z",
     "start_time": "2019-05-31T11:56:17.713349Z"
    },
    "id": "bBblTaCUcqMx"
   },
   "source": [
    "References : **Theory** https://www.kdnuggets.com/2016/04/association-rules-apriori-algorithm-tutorial.html"
   ]
  },
  {
   "cell_type": "markdown",
   "metadata": {
    "id": "RBPK8ku4cqMx"
   },
   "source": [
    "**Medium Blog** : https://medium.com/@khaledgama4/customer-behavior-analysis-identifies-hidden-patterns-association-rule-algorithm-6630e1abaafd"
   ]
  },
  {
   "cell_type": "code",
   "execution_count": null,
   "metadata": {
    "id": "IX5kMOOScqMx"
   },
   "outputs": [],
   "source": []
  }
 ],
 "metadata": {
  "colab": {
   "provenance": []
  },
  "hide_input": false,
  "kernelspec": {
   "display_name": "Python 3 (ipykernel)",
   "language": "python",
   "name": "python3"
  },
  "language_info": {
   "codemirror_mode": {
    "name": "ipython",
    "version": 3
   },
   "file_extension": ".py",
   "mimetype": "text/x-python",
   "name": "python",
   "nbconvert_exporter": "python",
   "pygments_lexer": "ipython3",
   "version": "3.11.5"
  },
  "latex_envs": {
   "LaTeX_envs_menu_present": true,
   "autoclose": false,
   "autocomplete": true,
   "bibliofile": "biblio.bib",
   "cite_by": "apalike",
   "current_citInitial": 1,
   "eqLabelWithNumbers": true,
   "eqNumInitial": 1,
   "hotkeys": {
    "equation": "Ctrl-E",
    "itemize": "Ctrl-I"
   },
   "labels_anchors": false,
   "latex_user_defs": false,
   "report_style_numbering": false,
   "user_envs_cfg": false
  },
  "nbTranslate": {
   "displayLangs": [
    "*"
   ],
   "hotkey": "alt-t",
   "langInMainMenu": true,
   "sourceLang": "en",
   "targetLang": "fr",
   "useGoogleTranslate": true
  },
  "toc": {
   "base_numbering": 1,
   "nav_menu": {},
   "number_sections": true,
   "sideBar": true,
   "skip_h1_title": false,
   "title_cell": "Table of Contents",
   "title_sidebar": "Contents",
   "toc_cell": false,
   "toc_position": {},
   "toc_section_display": true,
   "toc_window_display": false
  },
  "varInspector": {
   "cols": {
    "lenName": 16,
    "lenType": 16,
    "lenVar": 40
   },
   "kernels_config": {
    "python": {
     "delete_cmd_postfix": "",
     "delete_cmd_prefix": "del ",
     "library": "var_list.py",
     "varRefreshCmd": "print(var_dic_list())"
    },
    "r": {
     "delete_cmd_postfix": ") ",
     "delete_cmd_prefix": "rm(",
     "library": "var_list.r",
     "varRefreshCmd": "cat(var_dic_list()) "
    }
   },
   "types_to_exclude": [
    "module",
    "function",
    "builtin_function_or_method",
    "instance",
    "_Feature"
   ],
   "window_display": false
  }
 },
 "nbformat": 4,
 "nbformat_minor": 4
}
